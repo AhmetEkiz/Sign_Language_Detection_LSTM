{
 "cells": [
  {
   "cell_type": "markdown",
   "id": "ae0bd76b",
   "metadata": {},
   "source": [
    "# Sign Language Detection with LSTM and Mediapipe\n",
    "[Mediapipe](https://mediapipe.dev/).\n",
    "\n",
    "This tutorial was created and mostly copied from [Nicholas Renotte Sign Language Detection using ACTION RECOGNITION with Python | LSTM Deep Learning Model](https://youtu.be/doDUihpj6ro). [Original Project Github Link](https://github.com/nicknochnack/ActionDetectionforSignLanguage)"
   ]
  },
  {
   "cell_type": "markdown",
   "id": "02317557",
   "metadata": {},
   "source": [
    "# Contents\n",
    "\n",
    "1. [Import Dependencies](#1)\n",
    "1. [Keypoints using MP Holistic](#2)\n",
    "    1. [Holistic Detection with FPS Counter](#14)\n",
    "1. [Extract Keypoint Values](#3)\n",
    "    1. [Extract from the Pose Results](#4)\n",
    "        1. [Make a List for Pose of Frame](#5)\n",
    "        1. [Make an Numpy Array for Pose of Frame](#6)\n",
    "        1. [Determine for Input for LSTM Network](#7)\n",
    "    1. [Extract Keypoints Values from Face and Hands Results](#8)\n",
    "    1. [Error Handling for No Results Situations](#9)\n",
    "    1. [The Final Input Arrays and Function](#10)\n",
    "1. [Setup Folders for Collection](#11)\n",
    "1. [Collect Keypoint Values for Training and Testing](#12)\n",
    "1. [Preprocess Data and Create Labels and Features](#13)\n",
    "    1. [Split Train and Test Data](#17)\n",
    "1. [Build and Train LSTM Neural Network](#15)\n",
    "1. [Make Precitions](#16)\n",
    "1. [Save Model](#18)\n",
    "1. [Evaluation using Confusion Matrix and Accuracy](#19)\n",
    "    1. [Evaluating on Training Set](#21)\n",
    "    1. [Evaluating on Test Set](#22)\n",
    "\n",
    "1. [Test in Real Time](#20)\n",
    "    1. [Expected Input for LSTM Model](#23)\n",
    "    1. [Visualization: How to Works](#25)\n",
    "    1. [Real Time Detection with Webcam](#24)\n",
    "    \n",
    "\n",
    "1. [Appendix](#99)\n",
    "    1. [Results of Pose Landmarks](#100)\n",
    "    1. [Results of Pose Landmarks](#100)\n",
    "    1. [os.makedirs file already exists error](#102)\n",
    "    \n"
   ]
  },
  {
   "cell_type": "markdown",
   "id": "07819255",
   "metadata": {},
   "source": [
    "<a id=\"1\"></a>\n",
    "# Import Dependencies"
   ]
  },
  {
   "cell_type": "code",
   "execution_count": 1,
   "id": "604acae5",
   "metadata": {},
   "outputs": [],
   "source": [
    "import tensorflow as tf\n",
    "import cv2 \n",
    "import numpy as np\n",
    "import os\n",
    "from matplotlib import pyplot as plt\n",
    "import time\n",
    "import mediapipe as mp\n",
    "import keras as k"
   ]
  },
  {
   "cell_type": "code",
   "execution_count": 2,
   "id": "f208d34b",
   "metadata": {},
   "outputs": [
    {
     "name": "stdout",
     "output_type": "stream",
     "text": [
      "tf: 2.5.0\n",
      "Keras 2.5.0\n",
      "cv2: 4.5.5\n",
      "np: 1.19.5\n"
     ]
    }
   ],
   "source": [
    "print(\"tf:\", tf.__version__)\n",
    "print(\"Keras\", k.__version__)\n",
    "print(\"cv2:\", cv2.__version__)\n",
    "print(\"np:\", np.__version__)"
   ]
  },
  {
   "cell_type": "markdown",
   "id": "dcd49d9b",
   "metadata": {},
   "source": [
    "<a id=\"2\"></a>\n",
    "# 2. Keypoints using MP Holistic"
   ]
  },
  {
   "cell_type": "code",
   "execution_count": 3,
   "id": "f2d7fa5c",
   "metadata": {},
   "outputs": [],
   "source": [
    "mp_holistic = mp.solutions.holistic # Holistic model\n",
    "mp_drawing = mp.solutions.drawing_utils # Drawing utilities"
   ]
  },
  {
   "cell_type": "code",
   "execution_count": 4,
   "id": "f53dcbb7",
   "metadata": {},
   "outputs": [],
   "source": [
    "def mediapipe_detection(image, model):\n",
    "    image = cv2.cvtColor(image, cv2.COLOR_BGR2RGB) # COLOR CONVERSION BGR 2 RGB\n",
    "    image.flags.writeable = False                  # Image is no longer writeable\n",
    "    results = model.process(image)                 # Make prediction\n",
    "    image.flags.writeable = True                   # Image is now writeable \n",
    "    image = cv2.cvtColor(image, cv2.COLOR_RGB2BGR) # COLOR COVERSION RGB 2 BGR\n",
    "    return image, results"
   ]
  },
  {
   "cell_type": "code",
   "execution_count": 5,
   "id": "5243dab7",
   "metadata": {},
   "outputs": [],
   "source": [
    "def draw_landmarks(image, results):\n",
    "    mp_drawing.draw_landmarks(image, results.face_landmarks, mp_holistic.FACEMESH_CONTOURS) # Draw face connections\n",
    "    mp_drawing.draw_landmarks(image, results.pose_landmarks, mp_holistic.POSE_CONNECTIONS) # Draw pose connections\n",
    "    mp_drawing.draw_landmarks(image, results.left_hand_landmarks, mp_holistic.HAND_CONNECTIONS) # Draw left hand connections\n",
    "    mp_drawing.draw_landmarks(image, results.right_hand_landmarks, mp_holistic.HAND_CONNECTIONS) # Draw right hand connections"
   ]
  },
  {
   "cell_type": "code",
   "execution_count": 6,
   "id": "c623e2a5",
   "metadata": {},
   "outputs": [],
   "source": [
    "def draw_styled_landmarks(image, results):\n",
    "    # Draw face connections\n",
    "    mp_drawing.draw_landmarks(image, results.face_landmarks, mp_holistic.FACEMESH_CONTOURS, \n",
    "                             mp_drawing.DrawingSpec(color=(80,110,10), thickness=1, circle_radius=1), \n",
    "                             mp_drawing.DrawingSpec(color=(80,256,121), thickness=1, circle_radius=1)\n",
    "                             ) \n",
    "    # Draw pose connections\n",
    "    mp_drawing.draw_landmarks(image, results.pose_landmarks, mp_holistic.POSE_CONNECTIONS,\n",
    "                             mp_drawing.DrawingSpec(color=(80,22,10), thickness=2, circle_radius=4), \n",
    "                             mp_drawing.DrawingSpec(color=(80,44,121), thickness=2, circle_radius=2)\n",
    "                             ) \n",
    "    # Draw left hand connections\n",
    "    mp_drawing.draw_landmarks(image, results.left_hand_landmarks, mp_holistic.HAND_CONNECTIONS, \n",
    "                             mp_drawing.DrawingSpec(color=(121,22,76), thickness=2, circle_radius=4), \n",
    "                             mp_drawing.DrawingSpec(color=(121,44,250), thickness=2, circle_radius=2)\n",
    "                             ) \n",
    "    # Draw right hand connections  \n",
    "    mp_drawing.draw_landmarks(image, results.right_hand_landmarks, mp_holistic.HAND_CONNECTIONS, \n",
    "                             mp_drawing.DrawingSpec(color=(245,117,66), thickness=2, circle_radius=4), \n",
    "                             mp_drawing.DrawingSpec(color=(245,66,230), thickness=2, circle_radius=2)\n",
    "                             ) "
   ]
  },
  {
   "cell_type": "code",
   "execution_count": 14,
   "id": "1ff87512",
   "metadata": {},
   "outputs": [],
   "source": [
    "cap = cv2.VideoCapture(0)\n",
    "# Set mediapipe model \n",
    "with mp_holistic.Holistic(min_detection_confidence=0.5, min_tracking_confidence=0.5) as holistic:\n",
    "    while cap.isOpened():\n",
    "\n",
    "        # Read feed\n",
    "        ret, frame = cap.read()\n",
    "\n",
    "        # Make detections\n",
    "        image, results = mediapipe_detection(frame, holistic)\n",
    "#         print(results)\n",
    "        \n",
    "        # Draw landmarks\n",
    "        draw_styled_landmarks(image, results)\n",
    "\n",
    "        # Show to screen\n",
    "        cv2.imshow('Results', image)\n",
    "\n",
    "        # Break gracefully\n",
    "        if cv2.waitKey(10) & 0xFF == ord('q'):\n",
    "            break\n",
    "            \n",
    "cap.release()\n",
    "cv2.destroyAllWindows()"
   ]
  },
  {
   "cell_type": "markdown",
   "id": "02891332",
   "metadata": {},
   "source": [
    "<a id=\"14\"></a>\n",
    "## 2.A. Holistic Detection with FPS Counter"
   ]
  },
  {
   "cell_type": "code",
   "execution_count": 21,
   "id": "274a188d",
   "metadata": {},
   "outputs": [],
   "source": [
    "cap = cv2.VideoCapture(0)\n",
    "\n",
    "# used to record the time when we processed last frame\n",
    "prev_frame_time = 0\n",
    "# used to record the time at which we processed current frame\n",
    "new_frame_time = 0\n",
    "\n",
    "# Initiate holistic model\n",
    "with mp_holistic.Holistic(model_complexity=1, min_detection_confidence=0.5, \n",
    "                          min_tracking_confidence=0.5) as holistic:\n",
    "    \n",
    "    while cap.isOpened():\n",
    "        \n",
    "        # time when we finish processing for this frame\n",
    "        new_frame_time = time.time()\n",
    "        \n",
    "        ret, frame = cap.read()\n",
    "        \n",
    "        # Make detections\n",
    "        image, results = mediapipe_detection(frame, holistic)\n",
    "        \n",
    "        # Draw landmarks\n",
    "        draw_styled_landmarks(image, results)\n",
    "        \n",
    "        # fps will be number of frame processed in given time frame\n",
    "        # since their will be most of time error of 0.001 second\n",
    "        # we will be subtracting it to get more accurate result\n",
    "        fps = 1/(new_frame_time-prev_frame_time)\n",
    "        prev_frame_time = new_frame_time\n",
    "\n",
    "        # converting the fps into integer\n",
    "        fps = int(fps)\n",
    "        \n",
    "        # converting the fps to string so that we can display it on frame\n",
    "        # by using putText function\n",
    "        fps = str(fps)\n",
    "        font = cv2.FONT_HERSHEY_SIMPLEX\n",
    "        \n",
    "        # putting the FPS count on the frame\n",
    "        cv2.putText(image, fps, (7, 70), font, 1, (100, 255, 0), 3, cv2.LINE_AA)\n",
    "    \n",
    "        cv2.imshow('Webcam with Detections', image)\n",
    "\n",
    "        if cv2.waitKey(1) & 0xFF == ord('q'):\n",
    "            break\n",
    "\n",
    "cap.release()\n",
    "cv2.destroyAllWindows()"
   ]
  },
  {
   "cell_type": "markdown",
   "id": "f676484d",
   "metadata": {},
   "source": [
    "<center>\n",
    "<div class=\"alert alert-block alert-warning\">\n",
    "<b>Info:</b> Getting 15-20 fps right now.\n",
    "</div>\n",
    "</center>"
   ]
  },
  {
   "cell_type": "markdown",
   "id": "6440e0e7",
   "metadata": {},
   "source": [
    "<a id=\"3\"></a>\n",
    "# 3. Extract Keypoint Values\n",
    "\n",
    "[Results of Pose Landmarks are shown in the appendix.](#100)"
   ]
  },
  {
   "cell_type": "code",
   "execution_count": 22,
   "id": "19cb5156",
   "metadata": {},
   "outputs": [
    {
     "data": {
      "text/plain": [
       "mediapipe.python.solution_base.SolutionOutputs"
      ]
     },
     "execution_count": 22,
     "metadata": {},
     "output_type": "execute_result"
    }
   ],
   "source": [
    "results"
   ]
  },
  {
   "cell_type": "code",
   "execution_count": 23,
   "id": "b6335a65",
   "metadata": {},
   "outputs": [
    {
     "data": {
      "text/plain": [
       "<matplotlib.image.AxesImage at 0x22fd2f8f970>"
      ]
     },
     "execution_count": 23,
     "metadata": {},
     "output_type": "execute_result"
    },
    {
     "data": {
      "image/png": "[encoded data removed]",
      "text/plain": [
       "<Figure size 432x288 with 1 Axes>"
      ]
     },
     "metadata": {
      "needs_background": "light"
     },
     "output_type": "display_data"
    }
   ],
   "source": [
    "draw_landmarks(frame, results)\n",
    "plt.imshow(cv2.cvtColor(frame, cv2.COLOR_BGR2RGB))"
   ]
  },
  {
   "cell_type": "markdown",
   "id": "e7f0f8b6",
   "metadata": {},
   "source": [
    "<a id=\"4\"></a>\n",
    "## 3.A. Extract Keypoints Values from the Pose Results\n",
    "[Results of Pose Landmarks are shown in the appendix.](#100)"
   ]
  },
  {
   "cell_type": "code",
   "execution_count": 24,
   "id": "274b2df5",
   "metadata": {},
   "outputs": [
    {
     "data": {
      "text/plain": [
       "33"
      ]
     },
     "execution_count": 24,
     "metadata": {},
     "output_type": "execute_result"
    }
   ],
   "source": [
    "len(results.pose_landmarks.landmark)"
   ]
  },
  {
   "cell_type": "code",
   "execution_count": 12,
   "id": "22447e4f",
   "metadata": {},
   "outputs": [
    {
     "data": {
      "text/plain": [
       "x: 0.5141614079475403\n",
       "y: 0.6165520548820496\n",
       "z: -1.25775945186615\n",
       "visibility: 0.999890923500061"
      ]
     },
     "execution_count": 12,
     "metadata": {},
     "output_type": "execute_result"
    }
   ],
   "source": [
    "#Example\n",
    "results.pose_landmarks.landmark[0]"
   ]
  },
  {
   "cell_type": "code",
   "execution_count": 13,
   "id": "ea2ef43d",
   "metadata": {},
   "outputs": [
    {
     "data": {
      "text/plain": [
       "0.5141614079475403"
      ]
     },
     "execution_count": 13,
     "metadata": {},
     "output_type": "execute_result"
    }
   ],
   "source": [
    "results.pose_landmarks.landmark[0].x"
   ]
  },
  {
   "cell_type": "markdown",
   "id": "f423d4fe",
   "metadata": {},
   "source": [
    "<a id=\"5\"></a>\n",
    "### 3.A.a. Make a List for Pose of Frame"
   ]
  },
  {
   "cell_type": "code",
   "execution_count": 14,
   "id": "01a47614",
   "metadata": {},
   "outputs": [
    {
     "name": "stdout",
     "output_type": "stream",
     "text": [
      "0 :  [ 0.51416141  0.61655205 -1.25775945  0.99989092]\n",
      "1 :  [ 0.55111563  0.54507172 -1.17968035  0.99981564]\n",
      "2 :  [ 0.56976366  0.54401785 -1.17947507  0.99971282]\n",
      "3 :  [ 0.58554864  0.54434967 -1.17963982  0.99970639]\n",
      "4 :  [ 0.48639673  0.54793304 -1.16285384  0.99985468]\n",
      "5 :  [ 0.46225613  0.54766738 -1.16211605  0.99984491]\n",
      "6 :  [ 0.44253802  0.54701072 -1.16233289  0.99989635]\n",
      "7 :  [ 0.61597383  0.57685852 -0.67488194  0.99964345]\n",
      "8 :  [ 0.42484012  0.57580578 -0.57358116  0.99991494]\n",
      "9 :  [ 0.55367172  0.68515056 -1.07539344  0.99987185]\n",
      "10 :  [ 0.47169375  0.68425041 -1.0490272   0.999937  ]\n",
      "11 :  [ 0.75430995  0.93799049 -0.38094968  0.99431765]\n",
      "12 :  [ 0.27315301  0.89302522 -0.35905725  0.99938464]\n",
      "13 :  [ 0.89079112  1.4007318  -0.36563292  0.18669201]\n",
      "14 :  [-0.06555679  1.024261   -1.08029437  0.9212842 ]\n",
      "15 :  [ 0.90250504  1.7410413  -0.52428687  0.10095713]\n",
      "16 :  [ 0.13169168  0.63971478 -2.03506994  0.87573814]\n",
      "17 :  [ 0.93885076  1.85246527 -0.60532808  0.1005643 ]\n",
      "18 :  [ 0.21211712  0.48843393 -2.25936913  0.84196973]\n",
      "19 :  [ 0.88130438  1.84434354 -0.63183135  0.14808102]\n",
      "20 :  [ 0.23927827  0.48195806 -2.11360312  0.86006099]\n",
      "21 :  [ 0.85254794  1.80916297 -0.55631638  0.15329427]\n",
      "22 :  [ 0.23165461  0.56120241 -2.01359367  0.84888852]\n",
      "23 :  [ 6.37438178e-01  1.76785994e+00 -1.20335758e-01  7.48293765e-04]\n",
      "24 :  [2.98382699e-01 1.74717104e+00 1.25824362e-01 1.11842249e-03]\n",
      "25 :  [ 6.13167524e-01  2.48493314e+00 -2.74459720e-01  1.07535778e-03]\n",
      "26 :  [3.04855913e-01 2.47705078e+00 4.00484174e-01 7.30420754e-04]\n",
      "27 :  [5.96843660e-01 3.12273359e+00 3.97073299e-01 1.12893220e-04]\n",
      "28 :  [2.94160128e-01 3.10096312e+00 1.09019637e+00 1.65701222e-05]\n",
      "29 :  [6.02725923e-01 3.21748734e+00 4.20719147e-01 5.06659781e-05]\n",
      "30 :  [2.83836752e-01 3.18583441e+00 1.14547956e+00 4.03216982e-05]\n",
      "31 :  [ 5.40249467e-01  3.31736970e+00 -3.65602314e-01  5.76123639e-05]\n",
      "32 :  [3.30280453e-01 3.31952262e+00 3.52497816e-01 9.31877585e-05]\n"
     ]
    }
   ],
   "source": [
    "for i, res in enumerate(results.pose_landmarks.landmark):\n",
    "    test = np.array([res.x, res.y, res.z, res.visibility])\n",
    "    print(i,\": \", test)"
   ]
  },
  {
   "cell_type": "code",
   "execution_count": 15,
   "id": "4940b54e",
   "metadata": {},
   "outputs": [
    {
     "data": {
      "text/plain": [
       "[array([ 0.51416141,  0.61655205, -1.25775945,  0.99989092]),\n",
       " array([ 0.55111563,  0.54507172, -1.17968035,  0.99981564]),\n",
       " array([ 0.56976366,  0.54401785, -1.17947507,  0.99971282]),\n",
       " array([ 0.58554864,  0.54434967, -1.17963982,  0.99970639]),\n",
       " array([ 0.48639673,  0.54793304, -1.16285384,  0.99985468]),\n",
       " array([ 0.46225613,  0.54766738, -1.16211605,  0.99984491]),\n",
       " array([ 0.44253802,  0.54701072, -1.16233289,  0.99989635]),\n",
       " array([ 0.61597383,  0.57685852, -0.67488194,  0.99964345]),\n",
       " array([ 0.42484012,  0.57580578, -0.57358116,  0.99991494]),\n",
       " array([ 0.55367172,  0.68515056, -1.07539344,  0.99987185]),\n",
       " array([ 0.47169375,  0.68425041, -1.0490272 ,  0.999937  ]),\n",
       " array([ 0.75430995,  0.93799049, -0.38094968,  0.99431765]),\n",
       " array([ 0.27315301,  0.89302522, -0.35905725,  0.99938464]),\n",
       " array([ 0.89079112,  1.4007318 , -0.36563292,  0.18669201]),\n",
       " array([-0.06555679,  1.024261  , -1.08029437,  0.9212842 ]),\n",
       " array([ 0.90250504,  1.7410413 , -0.52428687,  0.10095713]),\n",
       " array([ 0.13169168,  0.63971478, -2.03506994,  0.87573814]),\n",
       " array([ 0.93885076,  1.85246527, -0.60532808,  0.1005643 ]),\n",
       " array([ 0.21211712,  0.48843393, -2.25936913,  0.84196973]),\n",
       " array([ 0.88130438,  1.84434354, -0.63183135,  0.14808102]),\n",
       " array([ 0.23927827,  0.48195806, -2.11360312,  0.86006099]),\n",
       " array([ 0.85254794,  1.80916297, -0.55631638,  0.15329427]),\n",
       " array([ 0.23165461,  0.56120241, -2.01359367,  0.84888852]),\n",
       " array([ 6.37438178e-01,  1.76785994e+00, -1.20335758e-01,  7.48293765e-04]),\n",
       " array([2.98382699e-01, 1.74717104e+00, 1.25824362e-01, 1.11842249e-03]),\n",
       " array([ 6.13167524e-01,  2.48493314e+00, -2.74459720e-01,  1.07535778e-03]),\n",
       " array([3.04855913e-01, 2.47705078e+00, 4.00484174e-01, 7.30420754e-04]),\n",
       " array([5.96843660e-01, 3.12273359e+00, 3.97073299e-01, 1.12893220e-04]),\n",
       " array([2.94160128e-01, 3.10096312e+00, 1.09019637e+00, 1.65701222e-05]),\n",
       " array([6.02725923e-01, 3.21748734e+00, 4.20719147e-01, 5.06659781e-05]),\n",
       " array([2.83836752e-01, 3.18583441e+00, 1.14547956e+00, 4.03216982e-05]),\n",
       " array([ 5.40249467e-01,  3.31736970e+00, -3.65602314e-01,  5.76123639e-05]),\n",
       " array([3.30280453e-01, 3.31952262e+00, 3.52497816e-01, 9.31877585e-05])]"
      ]
     },
     "execution_count": 15,
     "metadata": {},
     "output_type": "execute_result"
    }
   ],
   "source": [
    "pose = [] # a list for pose results\n",
    "for res in results.pose_landmarks.landmark:\n",
    "    test = np.array([res.x, res.y, res.z, res.visibility])\n",
    "    pose.append(test)\n",
    "pose"
   ]
  },
  {
   "cell_type": "code",
   "execution_count": 16,
   "id": "afa3051b",
   "metadata": {
    "scrolled": true
   },
   "outputs": [
    {
     "data": {
      "text/plain": [
       "33"
      ]
     },
     "execution_count": 16,
     "metadata": {},
     "output_type": "execute_result"
    }
   ],
   "source": [
    "len(pose)"
   ]
  },
  {
   "cell_type": "code",
   "execution_count": 17,
   "id": "f2a382f3",
   "metadata": {},
   "outputs": [
    {
     "data": {
      "text/plain": [
       "list"
      ]
     },
     "execution_count": 17,
     "metadata": {},
     "output_type": "execute_result"
    }
   ],
   "source": [
    "type(pose)"
   ]
  },
  {
   "cell_type": "markdown",
   "id": "0bffc5e8",
   "metadata": {},
   "source": [
    "<a id=\"6\"></a>\n",
    "### 3.A.b. Make an Numpy Array for Pose of Frame"
   ]
  },
  {
   "cell_type": "code",
   "execution_count": 18,
   "id": "33df3d61",
   "metadata": {},
   "outputs": [
    {
     "data": {
      "text/plain": [
       "array([[ 5.14161408e-01,  6.16552055e-01, -1.25775945e+00,\n",
       "         9.99890924e-01],\n",
       "       [ 5.51115632e-01,  5.45071721e-01, -1.17968035e+00,\n",
       "         9.99815643e-01],\n",
       "       [ 5.69763660e-01,  5.44017851e-01, -1.17947507e+00,\n",
       "         9.99712825e-01],\n",
       "       [ 5.85548639e-01,  5.44349670e-01, -1.17963982e+00,\n",
       "         9.99706388e-01],\n",
       "       [ 4.86396730e-01,  5.47933042e-01, -1.16285384e+00,\n",
       "         9.99854684e-01],\n",
       "       [ 4.62256134e-01,  5.47667384e-01, -1.16211605e+00,\n",
       "         9.99844909e-01],\n",
       "       [ 4.42538023e-01,  5.47010720e-01, -1.16233289e+00,\n",
       "         9.99896348e-01],\n",
       "       [ 6.15973830e-01,  5.76858521e-01, -6.74881935e-01,\n",
       "         9.99643445e-01],\n",
       "       [ 4.24840122e-01,  5.75805783e-01, -5.73581159e-01,\n",
       "         9.99914944e-01],\n",
       "       [ 5.53671718e-01,  6.85150564e-01, -1.07539344e+00,\n",
       "         9.99871850e-01],\n",
       "       [ 4.71693754e-01,  6.84250414e-01, -1.04902720e+00,\n",
       "         9.99936998e-01],\n",
       "       [ 7.54309952e-01,  9.37990487e-01, -3.80949676e-01,\n",
       "         9.94317651e-01],\n",
       "       [ 2.73153007e-01,  8.93025219e-01, -3.59057248e-01,\n",
       "         9.99384642e-01],\n",
       "       [ 8.90791118e-01,  1.40073180e+00, -3.65632921e-01,\n",
       "         1.86692014e-01],\n",
       "       [-6.55567870e-02,  1.02426100e+00, -1.08029437e+00,\n",
       "         9.21284199e-01],\n",
       "       [ 9.02505040e-01,  1.74104130e+00, -5.24286866e-01,\n",
       "         1.00957133e-01],\n",
       "       [ 1.31691679e-01,  6.39714777e-01, -2.03506994e+00,\n",
       "         8.75738144e-01],\n",
       "       [ 9.38850760e-01,  1.85246527e+00, -6.05328083e-01,\n",
       "         1.00564301e-01],\n",
       "       [ 2.12117121e-01,  4.88433927e-01, -2.25936913e+00,\n",
       "         8.41969728e-01],\n",
       "       [ 8.81304383e-01,  1.84434354e+00, -6.31831348e-01,\n",
       "         1.48081020e-01],\n",
       "       [ 2.39278272e-01,  4.81958061e-01, -2.11360312e+00,\n",
       "         8.60060990e-01],\n",
       "       [ 8.52547944e-01,  1.80916297e+00, -5.56316376e-01,\n",
       "         1.53294265e-01],\n",
       "       [ 2.31654614e-01,  5.61202407e-01, -2.01359367e+00,\n",
       "         8.48888516e-01],\n",
       "       [ 6.37438178e-01,  1.76785994e+00, -1.20335758e-01,\n",
       "         7.48293765e-04],\n",
       "       [ 2.98382699e-01,  1.74717104e+00,  1.25824362e-01,\n",
       "         1.11842249e-03],\n",
       "       [ 6.13167524e-01,  2.48493314e+00, -2.74459720e-01,\n",
       "         1.07535778e-03],\n",
       "       [ 3.04855913e-01,  2.47705078e+00,  4.00484174e-01,\n",
       "         7.30420754e-04],\n",
       "       [ 5.96843660e-01,  3.12273359e+00,  3.97073299e-01,\n",
       "         1.12893220e-04],\n",
       "       [ 2.94160128e-01,  3.10096312e+00,  1.09019637e+00,\n",
       "         1.65701222e-05],\n",
       "       [ 6.02725923e-01,  3.21748734e+00,  4.20719147e-01,\n",
       "         5.06659781e-05],\n",
       "       [ 2.83836752e-01,  3.18583441e+00,  1.14547956e+00,\n",
       "         4.03216982e-05],\n",
       "       [ 5.40249467e-01,  3.31736970e+00, -3.65602314e-01,\n",
       "         5.76123639e-05],\n",
       "       [ 3.30280453e-01,  3.31952262e+00,  3.52497816e-01,\n",
       "         9.31877585e-05]])"
      ]
     },
     "execution_count": 18,
     "metadata": {},
     "output_type": "execute_result"
    }
   ],
   "source": [
    "pose = np.array([[res.x, res.y, res.z, res.visibility] for res in results.pose_landmarks.landmark])\n",
    "pose"
   ]
  },
  {
   "cell_type": "code",
   "execution_count": 19,
   "id": "3a4c72f0",
   "metadata": {},
   "outputs": [
    {
     "name": "stdout",
     "output_type": "stream",
     "text": [
      "Length of Pose: 33\n",
      "Shape of Pose: (33, 4)\n"
     ]
    }
   ],
   "source": [
    "print(\"Length of Pose:\",len(pose))\n",
    "print(\"Shape of Pose:\", pose.shape)"
   ]
  },
  {
   "cell_type": "code",
   "execution_count": 20,
   "id": "2bb58fd8",
   "metadata": {},
   "outputs": [
    {
     "data": {
      "text/plain": [
       "numpy.ndarray"
      ]
     },
     "execution_count": 20,
     "metadata": {},
     "output_type": "execute_result"
    }
   ],
   "source": [
    "type(pose)"
   ]
  },
  {
   "cell_type": "markdown",
   "id": "b421b058",
   "metadata": {},
   "source": [
    "<a id=\"7\"></a>\n",
    "### 3.A.c. Determine for Input for LSTM Network"
   ]
  },
  {
   "cell_type": "code",
   "execution_count": 21,
   "id": "e2e9a006",
   "metadata": {},
   "outputs": [],
   "source": [
    "# this is input format for LSTM \n",
    "pose = np.array([[res.x, res.y, res.z, res.visibility] for res in results.pose_landmarks.landmark]).flatten()"
   ]
  },
  {
   "cell_type": "code",
   "execution_count": 22,
   "id": "734e3ec0",
   "metadata": {},
   "outputs": [
    {
     "name": "stdout",
     "output_type": "stream",
     "text": [
      "Shape of Pose: (132,)\n",
      "Pose: \n",
      " [ 5.14161408e-01  6.16552055e-01 -1.25775945e+00  9.99890924e-01\n",
      "  5.51115632e-01  5.45071721e-01 -1.17968035e+00  9.99815643e-01\n",
      "  5.69763660e-01  5.44017851e-01 -1.17947507e+00  9.99712825e-01\n",
      "  5.85548639e-01  5.44349670e-01 -1.17963982e+00  9.99706388e-01\n",
      "  4.86396730e-01  5.47933042e-01 -1.16285384e+00  9.99854684e-01\n",
      "  4.62256134e-01  5.47667384e-01 -1.16211605e+00  9.99844909e-01\n",
      "  4.42538023e-01  5.47010720e-01 -1.16233289e+00  9.99896348e-01\n",
      "  6.15973830e-01  5.76858521e-01 -6.74881935e-01  9.99643445e-01\n",
      "  4.24840122e-01  5.75805783e-01 -5.73581159e-01  9.99914944e-01\n",
      "  5.53671718e-01  6.85150564e-01 -1.07539344e+00  9.99871850e-01\n",
      "  4.71693754e-01  6.84250414e-01 -1.04902720e+00  9.99936998e-01\n",
      "  7.54309952e-01  9.37990487e-01 -3.80949676e-01  9.94317651e-01\n",
      "  2.73153007e-01  8.93025219e-01 -3.59057248e-01  9.99384642e-01\n",
      "  8.90791118e-01  1.40073180e+00 -3.65632921e-01  1.86692014e-01\n",
      " -6.55567870e-02  1.02426100e+00 -1.08029437e+00  9.21284199e-01\n",
      "  9.02505040e-01  1.74104130e+00 -5.24286866e-01  1.00957133e-01\n",
      "  1.31691679e-01  6.39714777e-01 -2.03506994e+00  8.75738144e-01\n",
      "  9.38850760e-01  1.85246527e+00 -6.05328083e-01  1.00564301e-01\n",
      "  2.12117121e-01  4.88433927e-01 -2.25936913e+00  8.41969728e-01\n",
      "  8.81304383e-01  1.84434354e+00 -6.31831348e-01  1.48081020e-01\n",
      "  2.39278272e-01  4.81958061e-01 -2.11360312e+00  8.60060990e-01\n",
      "  8.52547944e-01  1.80916297e+00 -5.56316376e-01  1.53294265e-01\n",
      "  2.31654614e-01  5.61202407e-01 -2.01359367e+00  8.48888516e-01\n",
      "  6.37438178e-01  1.76785994e+00 -1.20335758e-01  7.48293765e-04\n",
      "  2.98382699e-01  1.74717104e+00  1.25824362e-01  1.11842249e-03\n",
      "  6.13167524e-01  2.48493314e+00 -2.74459720e-01  1.07535778e-03\n",
      "  3.04855913e-01  2.47705078e+00  4.00484174e-01  7.30420754e-04\n",
      "  5.96843660e-01  3.12273359e+00  3.97073299e-01  1.12893220e-04\n",
      "  2.94160128e-01  3.10096312e+00  1.09019637e+00  1.65701222e-05\n",
      "  6.02725923e-01  3.21748734e+00  4.20719147e-01  5.06659781e-05\n",
      "  2.83836752e-01  3.18583441e+00  1.14547956e+00  4.03216982e-05\n",
      "  5.40249467e-01  3.31736970e+00 -3.65602314e-01  5.76123639e-05\n",
      "  3.30280453e-01  3.31952262e+00  3.52497816e-01  9.31877585e-05]\n"
     ]
    }
   ],
   "source": [
    "print(\"Shape of Pose:\", pose.shape)\n",
    "print(\"Pose: \\n\",pose)"
   ]
  },
  {
   "cell_type": "markdown",
   "id": "d23db9a2",
   "metadata": {},
   "source": [
    "<a id=\"8\"></a>\n",
    "## 3.B. Extract Keypoints Values from Face and Hands Results"
   ]
  },
  {
   "cell_type": "markdown",
   "id": "ed64139e",
   "metadata": {},
   "source": [
    "<div class=\"alert alert-block alert-warning\">\n",
    "<b>Note:</b> There are no visibility values for face and hands\n",
    "</div>"
   ]
  },
  {
   "cell_type": "code",
   "execution_count": 23,
   "id": "f0436165",
   "metadata": {},
   "outputs": [
    {
     "name": "stdout",
     "output_type": "stream",
     "text": [
      "(468, 3)\n"
     ]
    }
   ],
   "source": [
    "face = np.array([[res.x, res.y, res.z] for res in results.face_landmarks.landmark])\n",
    "print(face.shape)"
   ]
  },
  {
   "cell_type": "code",
   "execution_count": 29,
   "id": "0e4f7513",
   "metadata": {},
   "outputs": [],
   "source": [
    "face = np.array([[res.x, res.y, res.z] for res in results.face_landmarks.landmark]).flatten()"
   ]
  },
  {
   "cell_type": "code",
   "execution_count": 30,
   "id": "483425e3",
   "metadata": {},
   "outputs": [
    {
     "name": "stdout",
     "output_type": "stream",
     "text": [
      "Shape of face results:  (1404,)\n",
      "[ 0.5259276   0.68227011 -0.01917047 ...  0.59534889  0.53105265\n",
      "  0.00102406]\n"
     ]
    }
   ],
   "source": [
    "print(\"Shape of face results: \", face.shape)\n",
    "print(face)"
   ]
  },
  {
   "cell_type": "code",
   "execution_count": 31,
   "id": "19722ca2",
   "metadata": {},
   "outputs": [
    {
     "data": {
      "text/plain": [
       "(21, 3)"
      ]
     },
     "execution_count": 31,
     "metadata": {},
     "output_type": "execute_result"
    }
   ],
   "source": [
    "rh = np.array([[res.x, res.y, res.z] for res in results.right_hand_landmarks.landmark])\n",
    "rh.shape"
   ]
  },
  {
   "cell_type": "code",
   "execution_count": 32,
   "id": "cf772a82",
   "metadata": {},
   "outputs": [],
   "source": [
    "# right hand\n",
    "rh = np.array([[res.x, res.y, res.z] for res in results.right_hand_landmarks.landmark]).flatten()"
   ]
  },
  {
   "cell_type": "code",
   "execution_count": 33,
   "id": "39246322",
   "metadata": {
    "scrolled": false
   },
   "outputs": [
    {
     "data": {
      "text/plain": [
       "(63,)"
      ]
     },
     "execution_count": 33,
     "metadata": {},
     "output_type": "execute_result"
    }
   ],
   "source": [
    "rh.shape"
   ]
  },
  {
   "cell_type": "code",
   "execution_count": 34,
   "id": "1ffd5a50",
   "metadata": {},
   "outputs": [
    {
     "ename": "AttributeError",
     "evalue": "'NoneType' object has no attribute 'landmark'",
     "output_type": "error",
     "traceback": [
      "\u001b[1;31m---------------------------------------------------------------------------\u001b[0m",
      "\u001b[1;31mAttributeError\u001b[0m                            Traceback (most recent call last)",
      "Input \u001b[1;32mIn [34]\u001b[0m, in \u001b[0;36m<cell line: 2>\u001b[1;34m()\u001b[0m\n\u001b[0;32m      1\u001b[0m \u001b[38;5;66;03m# left hand\u001b[39;00m\n\u001b[1;32m----> 2\u001b[0m lh \u001b[38;5;241m=\u001b[39m np\u001b[38;5;241m.\u001b[39marray([[res\u001b[38;5;241m.\u001b[39mx, res\u001b[38;5;241m.\u001b[39my, res\u001b[38;5;241m.\u001b[39mz, res\u001b[38;5;241m.\u001b[39mvisibility] \u001b[38;5;28;01mfor\u001b[39;00m res \u001b[38;5;129;01min\u001b[39;00m \u001b[43mresults\u001b[49m\u001b[38;5;241;43m.\u001b[39;49m\u001b[43mleft_hand_landmarks\u001b[49m\u001b[38;5;241;43m.\u001b[39;49m\u001b[43mlandmark\u001b[49m])\u001b[38;5;241m.\u001b[39mflatten()\n",
      "\u001b[1;31mAttributeError\u001b[0m: 'NoneType' object has no attribute 'landmark'"
     ]
    }
   ],
   "source": [
    "# left hand\n",
    "lh = np.array([[res.x, res.y, res.z, res.visibility] for res in results.left_hand_landmarks.landmark]).flatten()"
   ]
  },
  {
   "cell_type": "markdown",
   "id": "ef1529c1",
   "metadata": {},
   "source": [
    "<div class=\"alert alert-block alert-warning\">\n",
    "<b>Note:</b> There is no left hand on the image, so there are no results of the left hand.\n",
    "</div>"
   ]
  },
  {
   "cell_type": "markdown",
   "id": "4a887604",
   "metadata": {},
   "source": [
    "<a id=\"9\"></a>\n",
    "## 3.C. Error Handling for No Results Situations"
   ]
  },
  {
   "cell_type": "markdown",
   "id": "14582dd8",
   "metadata": {},
   "source": [
    "<div class=\"alert alert-block alert-info\">\n",
    "<b>Info:</b> If there is not some part of the results on the image like the left hand, we need to handle the error when we want to convert results to inputs. In order to fix it, we will create a NumPy array with zeros as it should be shape of the input. \n",
    "</div>"
   ]
  },
  {
   "cell_type": "code",
   "execution_count": 35,
   "id": "96a5bf03",
   "metadata": {},
   "outputs": [],
   "source": [
    "pose = np.array([[res.x, res.y, res.z, res.visibility] for res in results.pose_landmarks.landmark])\n",
    "face = np.array([[res.x, res.y, res.z] for res in results.face_landmarks.landmark])\n",
    "rh = np.array([[res.x, res.y, res.z] for res in results.right_hand_landmarks.landmark])\n",
    "# same as right hand\n",
    "# lh = np.array([[res.x, res.y, res.z, res.visibility] for res in results.left_hand_landmarks.landmark])"
   ]
  },
  {
   "cell_type": "code",
   "execution_count": 36,
   "id": "1b926311",
   "metadata": {},
   "outputs": [
    {
     "name": "stdout",
     "output_type": "stream",
     "text": [
      "Shape of pose results:  (33, 4)\n",
      "Shape of face results:  (468, 3)\n",
      "Shape of right hand results:  (21, 3)\n"
     ]
    }
   ],
   "source": [
    "print(\"Shape of pose results: \", pose.shape)\n",
    "print(\"Shape of face results: \", face.shape)\n",
    "print(\"Shape of right hand results: \", rh.shape)"
   ]
  },
  {
   "cell_type": "code",
   "execution_count": 37,
   "id": "684d16ba",
   "metadata": {},
   "outputs": [
    {
     "name": "stdout",
     "output_type": "stream",
     "text": [
      "Shape of pose results:  (132,)\n",
      "Shape of face results:  (1404,)\n",
      "Shape of right hand results:  (63,)\n"
     ]
    }
   ],
   "source": [
    "print(\"Shape of pose results: \", pose.flatten().shape)\n",
    "print(\"Shape of face results: \", face.flatten().shape)\n",
    "print(\"Shape of right hand results: \", rh.flatten().shape)"
   ]
  },
  {
   "cell_type": "code",
   "execution_count": 38,
   "id": "74729848",
   "metadata": {},
   "outputs": [
    {
     "data": {
      "text/plain": [
       "(63,)"
      ]
     },
     "execution_count": 38,
     "metadata": {},
     "output_type": "execute_result"
    }
   ],
   "source": [
    "# for hands results\n",
    "np.zeros(21*3).shape"
   ]
  },
  {
   "cell_type": "markdown",
   "id": "b769bf6c",
   "metadata": {},
   "source": [
    "<a id=\"10\"></a>\n",
    "## 3.D. The Final Input Arrays and Function"
   ]
  },
  {
   "cell_type": "code",
   "execution_count": 39,
   "id": "6b40d56f",
   "metadata": {},
   "outputs": [],
   "source": [
    "pose = np.array([[res.x, res.y, res.z, res.visibility] for res in results.pose_landmarks.landmark]).flatten() if results.pose_landmarks else np.zeros(132)\n",
    "face = np.array([[res.x, res.y, res.z] for res in results.face_landmarks.landmark]).flatten() if results.face_landmarks else np.zeros(1404)\n",
    "lh = np.array([[res.x, res.y, res.z] for res in results.left_hand_landmarks.landmark]).flatten() if results.left_hand_landmarks else np.zeros(63)\n",
    "rh = np.array([[res.x, res.y, res.z] for res in results.right_hand_landmarks.landmark]).flatten() if results.right_hand_landmarks else np.zeros(63)"
   ]
  },
  {
   "cell_type": "code",
   "execution_count": 40,
   "id": "2450c3ae",
   "metadata": {},
   "outputs": [
    {
     "name": "stdout",
     "output_type": "stream",
     "text": [
      "Shape of pose results:  (132,)\n",
      "Shape of face results:  (1404,)\n",
      "Shape of right hand results:  (63,)\n",
      "Shape of left hand results:  (63,)\n"
     ]
    }
   ],
   "source": [
    "print(\"Shape of pose results: \", pose.shape)\n",
    "print(\"Shape of face results: \", face.shape)\n",
    "print(\"Shape of right hand results: \", rh.shape)\n",
    "print(\"Shape of left hand results: \", lh.shape)"
   ]
  },
  {
   "cell_type": "code",
   "execution_count": 7,
   "id": "042c2139",
   "metadata": {},
   "outputs": [],
   "source": [
    "# The final extract keypoints function\n",
    "def extract_keypoints(results):\n",
    "    pose = np.array([[res.x, res.y, res.z, res.visibility] for res in results.pose_landmarks.landmark]).flatten() if results.pose_landmarks else np.zeros(132)\n",
    "    face = np.array([[res.x, res.y, res.z] for res in results.face_landmarks.landmark]).flatten() if results.face_landmarks else np.zeros(1404)\n",
    "    lh = np.array([[res.x, res.y, res.z] for res in results.left_hand_landmarks.landmark]).flatten() if results.left_hand_landmarks else np.zeros(63)\n",
    "    rh = np.array([[res.x, res.y, res.z] for res in results.right_hand_landmarks.landmark]).flatten() if results.right_hand_landmarks else np.zeros(63)\n",
    "    return np.concatenate([pose, face, lh, rh])"
   ]
  },
  {
   "cell_type": "code",
   "execution_count": 42,
   "id": "c5b0e87b",
   "metadata": {},
   "outputs": [
    {
     "data": {
      "text/plain": [
       "(1662,)"
      ]
     },
     "execution_count": 42,
     "metadata": {},
     "output_type": "execute_result"
    }
   ],
   "source": [
    "extract_keypoints(results).shape"
   ]
  },
  {
   "cell_type": "markdown",
   "id": "f952d5b0",
   "metadata": {},
   "source": [
    "<a id=\"11\"></a>\n",
    "# 4. Setup Folders for Collection\n",
    "\n",
    "We use Turkish Sign Language for 3 words."
   ]
  },
  {
   "cell_type": "code",
   "execution_count": 8,
   "id": "2703a731",
   "metadata": {},
   "outputs": [],
   "source": [
    "# Path for exported data, numpy arrays\n",
    "DATA_PATH = os.path.join('workspace/data') \n",
    "\n",
    "# Actions that we try to detect\n",
    "actions = np.array(['merhaba', 'gunaydin', 'seniseviyorum'])\n",
    "\n",
    "# Thirty videos worth of data. no_sequences : number of sequences\n",
    "no_sequences = 30\n",
    "\n",
    "# Videos are going to be 30 frames in length\n",
    "sequence_length = 30"
   ]
  },
  {
   "cell_type": "markdown",
   "id": "1aedf18f",
   "metadata": {},
   "source": [
    "- \"Merhaba\" means hello in Turkish. Here is the [link](https://youtu.be/15xh4aNPKAM?list=PLflEAUnN_mr9CJQSe6zxx3iT8by5exh5G&t=203) that shows you how to do that.\n",
    "- \"Gunaydın\" means in Turkish good morning. Here is the [link](https://youtu.be/n6LulS3PFkk?list=PLflEAUnN_mr9CJQSe6zxx3iT8by5exh5G&t=207)\n",
    "- \"Seni Seviyorum\" means I love you. Here is the [link](https://youtu.be/eS2l_yqxLBw)"
   ]
  },
  {
   "cell_type": "code",
   "execution_count": 44,
   "id": "25142719",
   "metadata": {},
   "outputs": [],
   "source": [
    "# merhaba\n",
    "## 0\n",
    "## 1\n",
    "## 2\n",
    "## ...\n",
    "## 29\n",
    "# gunaydin\n",
    "## 0\n",
    "## 1\n",
    "## 2\n",
    "## ...\n",
    "# seniseviyorum\n",
    "#..."
   ]
  },
  {
   "cell_type": "code",
   "execution_count": 17,
   "id": "d76fd81d",
   "metadata": {},
   "outputs": [],
   "source": [
    "# create data class folders\n",
    "for action in actions: \n",
    "    for sequence in range(no_sequences):\n",
    "        try: \n",
    "            # If folder exist, raises error\n",
    "            os.makedirs(os.path.join(DATA_PATH, action, str(sequence)))\n",
    "        except:\n",
    "            pass"
   ]
  },
  {
   "cell_type": "markdown",
   "id": "0ebb8e30",
   "metadata": {},
   "source": [
    "If we want to add new folders for new data, we can add it safely. Because the code above tries to make a new folder but if it exists, it passes.\n",
    "To see [os.makedirs file already exists error](#102)"
   ]
  },
  {
   "cell_type": "markdown",
   "id": "699b403f",
   "metadata": {},
   "source": [
    "<a id=\"12\"></a>\n",
    "# 5. Collect Keypoint Values for Training and Testing"
   ]
  },
  {
   "cell_type": "code",
   "execution_count": 45,
   "id": "4b0caebd",
   "metadata": {},
   "outputs": [],
   "source": [
    "def progress_bar(image, percentage:int=5, size_x=100, size_y:int=10, height_from_bottom=5):\n",
    "    \"\"\"Progress bar for image\n",
    "    \n",
    "    Args:\n",
    "        image: image that want you put progress bar on it\n",
    "        percentage: an integer value percentage of fullness of bar\n",
    "        size_y: an integer value for height of your bar\n",
    "        size_x: an integer value for width of your bar\n",
    "        height_from_bottom : progress bar height from the bottom of the image\n",
    "    \n",
    "    Returns:\n",
    "        Image: the image that the progress bar added\n",
    "    \n",
    "    \"\"\"\n",
    "    \n",
    "    height, width, _ = image.shape\n",
    "    hfb = height - height*height_from_bottom/100\n",
    "\n",
    "    \n",
    "    # Thickness of -1 will fill the entire shape\n",
    "    thickness = -1\n",
    "    \n",
    "    percentage = percentage * size_x / 100\n",
    "    \n",
    "    # FULL PART\n",
    "    # represents the top left corner of rectangle 1\n",
    "    r1_x1 = int(width/2 - size_x/2)\n",
    "    r1_y1 = int(hfb - size_y)\n",
    "    start_point_1 = (r1_x1, r1_y1)\n",
    "    \n",
    "    # represents the bottom right corner of rectangle 1\n",
    "    r1_x2 = int(r1_x1 + percentage)\n",
    "    r1_y2 = int(hfb)\n",
    "    end_point_1 = (r1_x2, r1_y2)\n",
    "    \n",
    "    \n",
    "    # Color in BGR\n",
    "    color1 = (85, 240, 24) \n",
    "    \n",
    "    #rectangle 1 full\n",
    "    image = cv2.rectangle(image, start_point_1, end_point_1, color1, thickness)\n",
    "    \n",
    "    \n",
    "    # EMPTY PART\n",
    "    if not percentage == 100:\n",
    "        r2_x1 = r1_x2\n",
    "        r2_y1 = r1_y1\n",
    "        start_point_2 = (r2_x1, r2_y1)\n",
    "\n",
    "        # represents the bottom right corner of rectangle 1\n",
    "        r2_x2 = int(r2_x1 +(size_x-percentage))\n",
    "        r2_y2 = int(hfb)\n",
    "        end_point_2 = (r2_x2, r2_y2)\n",
    "\n",
    "        color2 = (245, 135, 66)\n",
    "\n",
    "        #rectangle 2 empty\n",
    "        image = cv2.rectangle(image, start_point_2, end_point_2, color2, thickness)\n",
    "        \n",
    "    return image"
   ]
  },
  {
   "cell_type": "code",
   "execution_count": 18,
   "id": "12e3836d",
   "metadata": {},
   "outputs": [],
   "source": [
    "cap = cv2.VideoCapture(0)\n",
    "\n",
    "# Set mediapipe model \n",
    "with mp_holistic.Holistic(min_detection_confidence=0.5, min_tracking_confidence=0.5) as holistic:\n",
    "    \n",
    "    # NEW LOOP\n",
    "    # Loop through actions\n",
    "    for action in actions:\n",
    "        \n",
    "        ret, frame = cap.read()\n",
    "        cv2.putText(frame, 'New Action({}) will be collected frames.'.format(action), (10,200), \n",
    "                                       cv2.FONT_HERSHEY_SIMPLEX, 0.7, (0,255, 0), 2, cv2.LINE_AA)                \n",
    "        cv2.imshow('OpenCV Feed', frame)\n",
    "        cv2.waitKey(30000) \n",
    "        \n",
    "        # Loop through sequences aka videos\n",
    "        for sequence in range(no_sequences):\n",
    "            # Loop through video length aka sequence length\n",
    "            for frame_num in range(sequence_length):\n",
    "\n",
    "                # Read feed\n",
    "                ret, frame = cap.read()\n",
    "\n",
    "                # Make detections\n",
    "                image, results = mediapipe_detection(frame, holistic)\n",
    "#                 print(results)\n",
    "\n",
    "                # Draw landmarks\n",
    "                draw_styled_landmarks(image, results)\n",
    "                \n",
    "                # NEW Apply wait logic\n",
    "                if frame_num == 0: \n",
    "                    for i in range(1,101,1):\n",
    "                        \n",
    "                        # Read feed\n",
    "                        ret, frame = cap.read()\n",
    "                        # Make detections\n",
    "                        image, results = mediapipe_detection(frame, holistic)\n",
    "                        # Draw landmarks\n",
    "                        draw_styled_landmarks(image, results)\n",
    "                \n",
    "                        cv2.putText(image, f'STARTING COLLECTION {int((100-i)/10)+1}', (120,200), \n",
    "                                   cv2.FONT_HERSHEY_SIMPLEX, 1, (0,255, 0), 4, cv2.LINE_AA)\n",
    "                        cv2.putText(image, 'Collecting frames for {} Video Number {}'.format(action, sequence), (15,12), \n",
    "                                   cv2.FONT_HERSHEY_SIMPLEX, 0.5, (0, 0, 255), 1, cv2.LINE_AA)\n",
    "                        \n",
    "                        image2 = image.copy()\n",
    "                        image2 = progress_bar(image2, percentage=i)\n",
    "                        \n",
    "                        \n",
    "                        # Show to screen\n",
    "                        cv2.imshow('OpenCV Feed', image2)\n",
    "                        cv2.waitKey(1)\n",
    "                        \n",
    "                else: \n",
    "                    image = progress_bar(image, percentage=frame_num*100/sequence_length)\n",
    "                    cv2.putText(image, 'Collecting frames for {} Video Number {}'.format(action, sequence), (15,12), \n",
    "                               cv2.FONT_HERSHEY_SIMPLEX, 0.5, (0, 0, 255), 1, cv2.LINE_AA)\n",
    "                    # Show to screen\n",
    "                    cv2.imshow('OpenCV Feed', image)\n",
    "                \n",
    "                # NEW Export keypoints\n",
    "                keypoints = extract_keypoints(results)\n",
    "                npy_path = os.path.join(DATA_PATH, action, str(sequence), str(frame_num))\n",
    "                np.save(npy_path, keypoints)\n",
    "\n",
    "                # Break gracefully\n",
    "                if cv2.waitKey(10) & 0xFF == ord('q'):\n",
    "                    break\n",
    "                    \n",
    "cap.release()\n",
    "cv2.destroyAllWindows()"
   ]
  },
  {
   "cell_type": "code",
   "execution_count": 16,
   "id": "332bfa8d",
   "metadata": {},
   "outputs": [],
   "source": [
    "cap.release()\n",
    "cv2.destroyAllWindows()"
   ]
  },
  {
   "cell_type": "markdown",
   "id": "fd3b724f",
   "metadata": {},
   "source": [
    "<a id=\"13\"></a>\n",
    "# 6. Preprocess Data and Create Labels and Features"
   ]
  },
  {
   "cell_type": "code",
   "execution_count": 9,
   "id": "82a2d49e",
   "metadata": {},
   "outputs": [],
   "source": [
    "from sklearn.model_selection import train_test_split\n",
    "from tensorflow.keras.utils import to_categorical"
   ]
  },
  {
   "cell_type": "code",
   "execution_count": 10,
   "id": "1036b537",
   "metadata": {},
   "outputs": [],
   "source": [
    "label_map = {label:num for num, label in enumerate(actions)}"
   ]
  },
  {
   "cell_type": "code",
   "execution_count": 11,
   "id": "c2999687",
   "metadata": {},
   "outputs": [
    {
     "data": {
      "text/plain": [
       "{'merhaba': 0, 'gunaydin': 1, 'seniseviyorum': 2}"
      ]
     },
     "execution_count": 11,
     "metadata": {},
     "output_type": "execute_result"
    }
   ],
   "source": [
    "label_map"
   ]
  },
  {
   "cell_type": "code",
   "execution_count": 12,
   "id": "ed5aa1aa",
   "metadata": {},
   "outputs": [],
   "source": [
    "sequences, labels = [], []\n",
    "for action in actions:\n",
    "    for sequence in range(no_sequences):\n",
    "        window = []\n",
    "        for frame_num in range(sequence_length):\n",
    "            res = np.load(os.path.join(DATA_PATH, action, str(sequence), \"{}.npy\".format(frame_num)))\n",
    "            window.append(res)\n",
    "        sequences.append(window)\n",
    "        labels.append(label_map[action])"
   ]
  },
  {
   "cell_type": "code",
   "execution_count": 13,
   "id": "7db47ac3",
   "metadata": {},
   "outputs": [
    {
     "data": {
      "text/plain": [
       "(90, 30, 1662)"
      ]
     },
     "execution_count": 13,
     "metadata": {},
     "output_type": "execute_result"
    }
   ],
   "source": [
    "np.array(sequences).shape"
   ]
  },
  {
   "cell_type": "code",
   "execution_count": 14,
   "id": "4ec254be",
   "metadata": {},
   "outputs": [
    {
     "data": {
      "text/plain": [
       "(90,)"
      ]
     },
     "execution_count": 14,
     "metadata": {},
     "output_type": "execute_result"
    }
   ],
   "source": [
    "np.array(labels).shape"
   ]
  },
  {
   "cell_type": "code",
   "execution_count": 15,
   "id": "c2ea526c",
   "metadata": {},
   "outputs": [],
   "source": [
    "X = np.array(sequences)"
   ]
  },
  {
   "cell_type": "code",
   "execution_count": 16,
   "id": "a3463b8a",
   "metadata": {},
   "outputs": [
    {
     "data": {
      "text/plain": [
       "(90, 30, 1662)"
      ]
     },
     "execution_count": 16,
     "metadata": {},
     "output_type": "execute_result"
    }
   ],
   "source": [
    "X.shape"
   ]
  },
  {
   "cell_type": "code",
   "execution_count": 17,
   "id": "d691c42c",
   "metadata": {},
   "outputs": [],
   "source": [
    "y = to_categorical(labels).astype(int)"
   ]
  },
  {
   "cell_type": "code",
   "execution_count": 18,
   "id": "74b2693a",
   "metadata": {},
   "outputs": [
    {
     "data": {
      "text/plain": [
       "array([[1, 0, 0],\n",
       "       [1, 0, 0],\n",
       "       [1, 0, 0],\n",
       "       [1, 0, 0],\n",
       "       [1, 0, 0],\n",
       "       [1, 0, 0],\n",
       "       [1, 0, 0],\n",
       "       [1, 0, 0],\n",
       "       [1, 0, 0],\n",
       "       [1, 0, 0],\n",
       "       [1, 0, 0],\n",
       "       [1, 0, 0],\n",
       "       [1, 0, 0],\n",
       "       [1, 0, 0],\n",
       "       [1, 0, 0],\n",
       "       [1, 0, 0],\n",
       "       [1, 0, 0],\n",
       "       [1, 0, 0],\n",
       "       [1, 0, 0],\n",
       "       [1, 0, 0],\n",
       "       [1, 0, 0],\n",
       "       [1, 0, 0],\n",
       "       [1, 0, 0],\n",
       "       [1, 0, 0],\n",
       "       [1, 0, 0],\n",
       "       [1, 0, 0],\n",
       "       [1, 0, 0],\n",
       "       [1, 0, 0],\n",
       "       [1, 0, 0],\n",
       "       [1, 0, 0],\n",
       "       [0, 1, 0],\n",
       "       [0, 1, 0],\n",
       "       [0, 1, 0],\n",
       "       [0, 1, 0],\n",
       "       [0, 1, 0],\n",
       "       [0, 1, 0],\n",
       "       [0, 1, 0],\n",
       "       [0, 1, 0],\n",
       "       [0, 1, 0],\n",
       "       [0, 1, 0],\n",
       "       [0, 1, 0],\n",
       "       [0, 1, 0],\n",
       "       [0, 1, 0],\n",
       "       [0, 1, 0],\n",
       "       [0, 1, 0],\n",
       "       [0, 1, 0],\n",
       "       [0, 1, 0],\n",
       "       [0, 1, 0],\n",
       "       [0, 1, 0],\n",
       "       [0, 1, 0],\n",
       "       [0, 1, 0],\n",
       "       [0, 1, 0],\n",
       "       [0, 1, 0],\n",
       "       [0, 1, 0],\n",
       "       [0, 1, 0],\n",
       "       [0, 1, 0],\n",
       "       [0, 1, 0],\n",
       "       [0, 1, 0],\n",
       "       [0, 1, 0],\n",
       "       [0, 1, 0],\n",
       "       [0, 0, 1],\n",
       "       [0, 0, 1],\n",
       "       [0, 0, 1],\n",
       "       [0, 0, 1],\n",
       "       [0, 0, 1],\n",
       "       [0, 0, 1],\n",
       "       [0, 0, 1],\n",
       "       [0, 0, 1],\n",
       "       [0, 0, 1],\n",
       "       [0, 0, 1],\n",
       "       [0, 0, 1],\n",
       "       [0, 0, 1],\n",
       "       [0, 0, 1],\n",
       "       [0, 0, 1],\n",
       "       [0, 0, 1],\n",
       "       [0, 0, 1],\n",
       "       [0, 0, 1],\n",
       "       [0, 0, 1],\n",
       "       [0, 0, 1],\n",
       "       [0, 0, 1],\n",
       "       [0, 0, 1],\n",
       "       [0, 0, 1],\n",
       "       [0, 0, 1],\n",
       "       [0, 0, 1],\n",
       "       [0, 0, 1],\n",
       "       [0, 0, 1],\n",
       "       [0, 0, 1],\n",
       "       [0, 0, 1],\n",
       "       [0, 0, 1],\n",
       "       [0, 0, 1]])"
      ]
     },
     "execution_count": 18,
     "metadata": {},
     "output_type": "execute_result"
    }
   ],
   "source": [
    "y"
   ]
  },
  {
   "cell_type": "markdown",
   "id": "a9efc085",
   "metadata": {},
   "source": [
    "<a id=\"17\"></a>\n",
    "## 6.A. Split Train and Test Data"
   ]
  },
  {
   "cell_type": "code",
   "execution_count": 19,
   "id": "28a73e7b",
   "metadata": {},
   "outputs": [],
   "source": [
    "X_train, X_test  , y_train, y_test = train_test_split(X, y, test_size=0.05)"
   ]
  },
  {
   "cell_type": "code",
   "execution_count": 20,
   "id": "4d1e5879",
   "metadata": {},
   "outputs": [
    {
     "data": {
      "text/plain": [
       "(85, 30, 1662)"
      ]
     },
     "execution_count": 20,
     "metadata": {},
     "output_type": "execute_result"
    }
   ],
   "source": [
    "X_train.shape"
   ]
  },
  {
   "cell_type": "code",
   "execution_count": 21,
   "id": "bf02ad38",
   "metadata": {},
   "outputs": [
    {
     "data": {
      "text/plain": [
       "(5, 30, 1662)"
      ]
     },
     "execution_count": 21,
     "metadata": {},
     "output_type": "execute_result"
    }
   ],
   "source": [
    "X_test.shape"
   ]
  },
  {
   "cell_type": "code",
   "execution_count": 22,
   "id": "62d1a936",
   "metadata": {},
   "outputs": [
    {
     "data": {
      "text/plain": [
       "(5, 3)"
      ]
     },
     "execution_count": 22,
     "metadata": {},
     "output_type": "execute_result"
    }
   ],
   "source": [
    "y_test.shape"
   ]
  },
  {
   "cell_type": "markdown",
   "id": "9f69963b",
   "metadata": {},
   "source": [
    "<a id=\"15\"></a>\n",
    "# 7. Build and Train LSTM Neural Network"
   ]
  },
  {
   "cell_type": "code",
   "execution_count": 23,
   "id": "cae6c983",
   "metadata": {},
   "outputs": [],
   "source": [
    "from tensorflow.keras.models import Sequential\n",
    "from tensorflow.keras.layers import LSTM, Dense\n",
    "from tensorflow.keras.callbacks import TensorBoard"
   ]
  },
  {
   "cell_type": "code",
   "execution_count": 24,
   "id": "8dd22f0f",
   "metadata": {},
   "outputs": [
    {
     "data": {
      "text/plain": [
       "'Log_2022_05_01_time_21_04_24'"
      ]
     },
     "execution_count": 24,
     "metadata": {},
     "output_type": "execute_result"
    }
   ],
   "source": [
    "# example of logs name\n",
    "time_of_model = time.strftime('%Y_%m_%d_time_%H_%M_%S',time.localtime())\n",
    "name_of_training_logs = f\"Log_{time_of_model}\"\n",
    "name_of_training_logs"
   ]
  },
  {
   "cell_type": "code",
   "execution_count": 25,
   "id": "75bab97d",
   "metadata": {},
   "outputs": [],
   "source": [
    "time_of_model = time.strftime('%Y_%m_%d_time_%H_%M_%S',time.localtime())\n",
    "name_of_training_logs = f\"Log_{time_of_model}\"\n",
    "\n",
    "log_dir = os.path.join(f\"Logs/{name_of_training_logs}\")\n",
    "tb_callback = TensorBoard(log_dir=log_dir)"
   ]
  },
  {
   "cell_type": "code",
   "execution_count": 26,
   "id": "2cecab2f",
   "metadata": {},
   "outputs": [
    {
     "name": "stdout",
     "output_type": "stream",
     "text": [
      "WARNING:tensorflow:Layer lstm will not use cuDNN kernels since it doesn't meet the criteria. It will use a generic GPU kernel as fallback when running on GPU.\n",
      "WARNING:tensorflow:Layer lstm_1 will not use cuDNN kernels since it doesn't meet the criteria. It will use a generic GPU kernel as fallback when running on GPU.\n",
      "WARNING:tensorflow:Layer lstm_2 will not use cuDNN kernels since it doesn't meet the criteria. It will use a generic GPU kernel as fallback when running on GPU.\n"
     ]
    }
   ],
   "source": [
    "def create_model():\n",
    "    \n",
    "    model = Sequential()\n",
    "    model.add(LSTM(64, return_sequences=True, activation='relu', input_shape=(30,1662)))\n",
    "    model.add(LSTM(128, return_sequences=True, activation='relu'))\n",
    "    model.add(LSTM(64, return_sequences=False, activation='relu'))\n",
    "    model.add(Dense(64, activation='relu'))\n",
    "    model.add(Dense(32, activation='relu'))\n",
    "    model.add(Dense(actions.shape[0], activation='softmax'))\n",
    "    \n",
    "    return model\n",
    "\n",
    "model = create_model()"
   ]
  },
  {
   "cell_type": "code",
   "execution_count": 27,
   "id": "18afb439",
   "metadata": {},
   "outputs": [
    {
     "data": {
      "text/plain": [
       "3"
      ]
     },
     "execution_count": 27,
     "metadata": {},
     "output_type": "execute_result"
    }
   ],
   "source": [
    "actions.shape[0]  # number of our classes"
   ]
  },
  {
   "cell_type": "code",
   "execution_count": 28,
   "id": "4b951ff7",
   "metadata": {},
   "outputs": [
    {
     "name": "stdout",
     "output_type": "stream",
     "text": [
      "np.argmax : 0\n",
      "Detected Action: merhaba\n"
     ]
    }
   ],
   "source": [
    "# Assume res is our model output. (Probabilities of classes.)\n",
    "res = [.7, 0.2, 0.1]\n",
    "\n",
    "print(\"np.argmax :\",np.argmax(res))  # Returns the indices of the maximum values along an axis.\n",
    "\n",
    "print(\"Detected Action:\", actions[np.argmax(res)])"
   ]
  },
  {
   "cell_type": "code",
   "execution_count": 29,
   "id": "489c6f98",
   "metadata": {},
   "outputs": [],
   "source": [
    "model.compile(optimizer='Adam', loss='categorical_crossentropy', metrics=['categorical_accuracy'])"
   ]
  },
  {
   "cell_type": "code",
   "execution_count": 30,
   "id": "88315847",
   "metadata": {},
   "outputs": [
    {
     "name": "stdout",
     "output_type": "stream",
     "text": [
      "Model: \"sequential\"\n",
      "_________________________________________________________________\n",
      "Layer (type)                 Output Shape              Param #   \n",
      "=================================================================\n",
      "lstm (LSTM)                  (None, 30, 64)            442112    \n",
      "_________________________________________________________________\n",
      "lstm_1 (LSTM)                (None, 30, 128)           98816     \n",
      "_________________________________________________________________\n",
      "lstm_2 (LSTM)                (None, 64)                49408     \n",
      "_________________________________________________________________\n",
      "dense (Dense)                (None, 64)                4160      \n",
      "_________________________________________________________________\n",
      "dense_1 (Dense)              (None, 32)                2080      \n",
      "_________________________________________________________________\n",
      "dense_2 (Dense)              (None, 3)                 99        \n",
      "=================================================================\n",
      "Total params: 596,675\n",
      "Trainable params: 596,675\n",
      "Non-trainable params: 0\n",
      "_________________________________________________________________\n"
     ]
    }
   ],
   "source": [
    "model.summary()"
   ]
  },
  {
   "cell_type": "code",
   "execution_count": 31,
   "id": "8e945e91",
   "metadata": {
    "scrolled": true
   },
   "outputs": [
    {
     "name": "stdout",
     "output_type": "stream",
     "text": [
      "Epoch 1/100\n",
      "3/3 [==============================] - 4s 553ms/step - loss: 11.1806 - categorical_accuracy: 0.3176\n",
      "Epoch 2/100\n",
      "3/3 [==============================] - 1s 359ms/step - loss: 1.2771 - categorical_accuracy: 0.3176\n",
      "Epoch 3/100\n",
      "3/3 [==============================] - 1s 336ms/step - loss: 5.5799 - categorical_accuracy: 0.3294\n",
      "Epoch 4/100\n",
      "3/3 [==============================] - 1s 314ms/step - loss: 4.8107 - categorical_accuracy: 0.4000\n",
      "Epoch 5/100\n",
      "3/3 [==============================] - 1s 324ms/step - loss: 11.7758 - categorical_accuracy: 0.3412\n",
      "Epoch 6/100\n",
      "3/3 [==============================] - 1s 319ms/step - loss: 6.1102 - categorical_accuracy: 0.2235\n",
      "Epoch 7/100\n",
      "3/3 [==============================] - 1s 326ms/step - loss: 3.1696 - categorical_accuracy: 0.5294\n",
      "Epoch 8/100\n",
      "3/3 [==============================] - 1s 327ms/step - loss: 15.5262 - categorical_accuracy: 0.3176\n",
      "Epoch 9/100\n",
      "3/3 [==============================] - 1s 343ms/step - loss: 24.8684 - categorical_accuracy: 0.2941\n",
      "Epoch 10/100\n",
      "3/3 [==============================] - 1s 317ms/step - loss: 20.9450 - categorical_accuracy: 0.3059\n",
      "Epoch 11/100\n",
      "3/3 [==============================] - 1s 344ms/step - loss: 25.2601 - categorical_accuracy: 0.3529\n",
      "Epoch 12/100\n",
      "3/3 [==============================] - 1s 333ms/step - loss: 28.1995 - categorical_accuracy: 0.3412\n",
      "Epoch 13/100\n",
      "3/3 [==============================] - 1s 345ms/step - loss: 63.9973 - categorical_accuracy: 0.3765\n",
      "Epoch 14/100\n",
      "3/3 [==============================] - 1s 326ms/step - loss: 48.5521 - categorical_accuracy: 0.1882\n",
      "Epoch 15/100\n",
      "3/3 [==============================] - 1s 365ms/step - loss: 17.4866 - categorical_accuracy: 0.3412\n",
      "Epoch 16/100\n",
      "3/3 [==============================] - 1s 331ms/step - loss: 33.9662 - categorical_accuracy: 0.2706\n",
      "Epoch 17/100\n",
      "3/3 [==============================] - 1s 345ms/step - loss: 36.5248 - categorical_accuracy: 0.3412\n",
      "Epoch 18/100\n",
      "3/3 [==============================] - 1s 328ms/step - loss: 31.2594 - categorical_accuracy: 0.2824\n",
      "Epoch 19/100\n",
      "3/3 [==============================] - 1s 358ms/step - loss: 31.6755 - categorical_accuracy: 0.2941\n",
      "Epoch 20/100\n",
      "3/3 [==============================] - 1s 375ms/step - loss: 35.3240 - categorical_accuracy: 0.3294\n",
      "Epoch 21/100\n",
      "3/3 [==============================] - 1s 319ms/step - loss: 23.3832 - categorical_accuracy: 0.3412\n",
      "Epoch 22/100\n",
      "3/3 [==============================] - 1s 334ms/step - loss: 12.6027 - categorical_accuracy: 0.3294\n",
      "Epoch 23/100\n",
      "3/3 [==============================] - 1s 318ms/step - loss: 10.5633 - categorical_accuracy: 0.3529\n",
      "Epoch 24/100\n",
      "3/3 [==============================] - 1s 310ms/step - loss: 7.7200 - categorical_accuracy: 0.2353\n",
      "Epoch 25/100\n",
      "3/3 [==============================] - 1s 357ms/step - loss: 14.9713 - categorical_accuracy: 0.3059\n",
      "Epoch 26/100\n",
      "3/3 [==============================] - 1s 323ms/step - loss: 13.4157 - categorical_accuracy: 0.3647\n",
      "Epoch 27/100\n",
      "3/3 [==============================] - 1s 320ms/step - loss: 20.3536 - categorical_accuracy: 0.3412\n",
      "Epoch 28/100\n",
      "3/3 [==============================] - 1s 320ms/step - loss: 10.8931 - categorical_accuracy: 0.3647\n",
      "Epoch 29/100\n",
      "3/3 [==============================] - 1s 342ms/step - loss: 4.6818 - categorical_accuracy: 0.3882\n",
      "Epoch 30/100\n",
      "3/3 [==============================] - 1s 339ms/step - loss: 9.1156 - categorical_accuracy: 0.2706\n",
      "Epoch 31/100\n",
      "3/3 [==============================] - 1s 319ms/step - loss: 6.9394 - categorical_accuracy: 0.3294\n",
      "Epoch 32/100\n",
      "3/3 [==============================] - 1s 338ms/step - loss: 3.5966 - categorical_accuracy: 0.4941\n",
      "Epoch 33/100\n",
      "3/3 [==============================] - 1s 318ms/step - loss: 2.9979 - categorical_accuracy: 0.3882\n",
      "Epoch 34/100\n",
      "3/3 [==============================] - 1s 355ms/step - loss: 3.1698 - categorical_accuracy: 0.4000\n",
      "Epoch 35/100\n",
      "3/3 [==============================] - 1s 311ms/step - loss: 2.3504 - categorical_accuracy: 0.4118\n",
      "Epoch 36/100\n",
      "3/3 [==============================] - 1s 339ms/step - loss: 2.3441 - categorical_accuracy: 0.3412\n",
      "Epoch 37/100\n",
      "3/3 [==============================] - 1s 317ms/step - loss: 1.7865 - categorical_accuracy: 0.4000\n",
      "Epoch 38/100\n",
      "3/3 [==============================] - 1s 342ms/step - loss: 1.8261 - categorical_accuracy: 0.2471\n",
      "Epoch 39/100\n",
      "3/3 [==============================] - 1s 319ms/step - loss: 1.4154 - categorical_accuracy: 0.4118\n",
      "Epoch 40/100\n",
      "3/3 [==============================] - 1s 318ms/step - loss: 1.4860 - categorical_accuracy: 0.3882\n",
      "Epoch 41/100\n",
      "3/3 [==============================] - 1s 345ms/step - loss: 1.3139 - categorical_accuracy: 0.4000\n",
      "Epoch 42/100\n",
      "3/3 [==============================] - 1s 316ms/step - loss: 1.1729 - categorical_accuracy: 0.4824\n",
      "Epoch 43/100\n",
      "3/3 [==============================] - 1s 342ms/step - loss: 1.0450 - categorical_accuracy: 0.5412\n",
      "Epoch 44/100\n",
      "3/3 [==============================] - 1s 341ms/step - loss: 0.9113 - categorical_accuracy: 0.6118\n",
      "Epoch 45/100\n",
      "3/3 [==============================] - 1s 339ms/step - loss: 0.8779 - categorical_accuracy: 0.6824\n",
      "Epoch 46/100\n",
      "3/3 [==============================] - 1s 327ms/step - loss: 0.8538 - categorical_accuracy: 0.6235\n",
      "Epoch 47/100\n",
      "3/3 [==============================] - 1s 337ms/step - loss: 0.8280 - categorical_accuracy: 0.6235\n",
      "Epoch 48/100\n",
      "3/3 [==============================] - 1s 338ms/step - loss: 0.7974 - categorical_accuracy: 0.6235\n",
      "Epoch 49/100\n",
      "3/3 [==============================] - 1s 373ms/step - loss: 0.7558 - categorical_accuracy: 0.7059\n",
      "Epoch 50/100\n",
      "3/3 [==============================] - 1s 341ms/step - loss: 0.7235 - categorical_accuracy: 0.6824\n",
      "Epoch 51/100\n",
      "3/3 [==============================] - 1s 332ms/step - loss: 0.7233 - categorical_accuracy: 0.6941\n",
      "Epoch 52/100\n",
      "3/3 [==============================] - 1s 311ms/step - loss: 0.6877 - categorical_accuracy: 0.7647\n",
      "Epoch 53/100\n",
      "3/3 [==============================] - 1s 312ms/step - loss: 0.6739 - categorical_accuracy: 0.7647\n",
      "Epoch 54/100\n",
      "3/3 [==============================] - 1s 362ms/step - loss: 0.6571 - categorical_accuracy: 0.7765\n",
      "Epoch 55/100\n",
      "3/3 [==============================] - 1s 314ms/step - loss: 0.6536 - categorical_accuracy: 0.7412\n",
      "Epoch 56/100\n",
      "3/3 [==============================] - 1s 337ms/step - loss: 0.6356 - categorical_accuracy: 0.7765\n",
      "Epoch 57/100\n",
      "3/3 [==============================] - 1s 337ms/step - loss: 0.6322 - categorical_accuracy: 0.7882\n",
      "Epoch 58/100\n",
      "3/3 [==============================] - 1s 345ms/step - loss: 0.6361 - categorical_accuracy: 0.7765\n",
      "Epoch 59/100\n",
      "3/3 [==============================] - 1s 331ms/step - loss: 0.6239 - categorical_accuracy: 0.7647\n",
      "Epoch 60/100\n",
      "3/3 [==============================] - 1s 365ms/step - loss: 0.6494 - categorical_accuracy: 0.7647\n",
      "Epoch 61/100\n",
      "3/3 [==============================] - 1s 318ms/step - loss: 0.6247 - categorical_accuracy: 0.7647\n",
      "Epoch 62/100\n",
      "3/3 [==============================] - 1s 338ms/step - loss: 0.6559 - categorical_accuracy: 0.7647\n",
      "Epoch 63/100\n",
      "3/3 [==============================] - 1s 342ms/step - loss: 0.6222 - categorical_accuracy: 0.7176\n",
      "Epoch 64/100\n",
      "3/3 [==============================] - 1s 351ms/step - loss: 0.6498 - categorical_accuracy: 0.7647\n",
      "Epoch 65/100\n",
      "3/3 [==============================] - 1s 347ms/step - loss: 0.6286 - categorical_accuracy: 0.7529\n",
      "Epoch 66/100\n",
      "3/3 [==============================] - 1s 334ms/step - loss: 0.6233 - categorical_accuracy: 0.7412\n",
      "Epoch 67/100\n",
      "3/3 [==============================] - 1s 350ms/step - loss: 0.5966 - categorical_accuracy: 0.7647\n",
      "Epoch 68/100\n",
      "3/3 [==============================] - 1s 342ms/step - loss: 0.5938 - categorical_accuracy: 0.8118\n",
      "Epoch 69/100\n",
      "3/3 [==============================] - 1s 353ms/step - loss: 0.5683 - categorical_accuracy: 0.8235\n",
      "Epoch 70/100\n",
      "3/3 [==============================] - 1s 340ms/step - loss: 0.5701 - categorical_accuracy: 0.7882\n",
      "Epoch 71/100\n",
      "3/3 [==============================] - 1s 326ms/step - loss: 0.5561 - categorical_accuracy: 0.8000\n",
      "Epoch 72/100\n",
      "3/3 [==============================] - 1s 344ms/step - loss: 0.5744 - categorical_accuracy: 0.7765\n",
      "Epoch 73/100\n",
      "3/3 [==============================] - 1s 333ms/step - loss: 0.5612 - categorical_accuracy: 0.7529\n",
      "Epoch 74/100\n"
     ]
    },
    {
     "name": "stdout",
     "output_type": "stream",
     "text": [
      "3/3 [==============================] - 1s 349ms/step - loss: 0.5392 - categorical_accuracy: 0.8235\n",
      "Epoch 75/100\n",
      "3/3 [==============================] - 1s 323ms/step - loss: 0.5414 - categorical_accuracy: 0.7882\n",
      "Epoch 76/100\n",
      "3/3 [==============================] - 1s 339ms/step - loss: 0.5164 - categorical_accuracy: 0.8118\n",
      "Epoch 77/100\n",
      "3/3 [==============================] - 1s 318ms/step - loss: 0.5198 - categorical_accuracy: 0.7765\n",
      "Epoch 78/100\n",
      "3/3 [==============================] - 1s 355ms/step - loss: 0.5162 - categorical_accuracy: 0.7765\n",
      "Epoch 79/100\n",
      "3/3 [==============================] - 1s 341ms/step - loss: 0.5273 - categorical_accuracy: 0.7882\n",
      "Epoch 80/100\n",
      "3/3 [==============================] - 1s 330ms/step - loss: 0.5020 - categorical_accuracy: 0.8118\n",
      "Epoch 81/100\n",
      "3/3 [==============================] - 1s 373ms/step - loss: 0.5296 - categorical_accuracy: 0.8000\n",
      "Epoch 82/100\n",
      "3/3 [==============================] - 1s 322ms/step - loss: 0.5217 - categorical_accuracy: 0.8118\n",
      "Epoch 83/100\n",
      "3/3 [==============================] - 1s 323ms/step - loss: 0.5469 - categorical_accuracy: 0.7529\n",
      "Epoch 84/100\n",
      "3/3 [==============================] - 1s 331ms/step - loss: 0.5335 - categorical_accuracy: 0.7647\n",
      "Epoch 85/100\n",
      "3/3 [==============================] - 1s 325ms/step - loss: 0.5395 - categorical_accuracy: 0.7765\n",
      "Epoch 86/100\n",
      "3/3 [==============================] - 1s 345ms/step - loss: 0.4915 - categorical_accuracy: 0.8353\n",
      "Epoch 87/100\n",
      "3/3 [==============================] - 1s 331ms/step - loss: 0.5354 - categorical_accuracy: 0.7765\n",
      "Epoch 88/100\n",
      "3/3 [==============================] - 1s 336ms/step - loss: 0.5097 - categorical_accuracy: 0.7765\n",
      "Epoch 89/100\n",
      "3/3 [==============================] - 1s 332ms/step - loss: 0.5079 - categorical_accuracy: 0.7882\n",
      "Epoch 90/100\n",
      "3/3 [==============================] - 1s 348ms/step - loss: 0.5428 - categorical_accuracy: 0.7529\n",
      "Epoch 91/100\n",
      "3/3 [==============================] - 1s 338ms/step - loss: 0.5530 - categorical_accuracy: 0.7529\n",
      "Epoch 92/100\n",
      "3/3 [==============================] - 1s 358ms/step - loss: 0.4916 - categorical_accuracy: 0.7765\n",
      "Epoch 93/100\n",
      "3/3 [==============================] - 1s 342ms/step - loss: 0.4944 - categorical_accuracy: 0.7529\n",
      "Epoch 94/100\n",
      "3/3 [==============================] - 1s 332ms/step - loss: 0.5004 - categorical_accuracy: 0.8118\n",
      "Epoch 95/100\n",
      "3/3 [==============================] - 1s 316ms/step - loss: 0.5120 - categorical_accuracy: 0.8000\n",
      "Epoch 96/100\n",
      "3/3 [==============================] - 1s 323ms/step - loss: 0.4769 - categorical_accuracy: 0.8000\n",
      "Epoch 97/100\n",
      "3/3 [==============================] - 1s 360ms/step - loss: 0.4644 - categorical_accuracy: 0.7882\n",
      "Epoch 98/100\n",
      "3/3 [==============================] - 1s 313ms/step - loss: 0.4490 - categorical_accuracy: 0.8353\n",
      "Epoch 99/100\n",
      "3/3 [==============================] - 1s 346ms/step - loss: 0.4506 - categorical_accuracy: 0.8471\n",
      "Epoch 100/100\n",
      "3/3 [==============================] - 1s 339ms/step - loss: 0.4488 - categorical_accuracy: 0.8353\n"
     ]
    },
    {
     "data": {
      "text/plain": [
       "<tensorflow.python.keras.callbacks.History at 0x205b6a4dc40>"
      ]
     },
     "execution_count": 31,
     "metadata": {},
     "output_type": "execute_result"
    }
   ],
   "source": [
    "epochs=100\n",
    "model.fit(X_train, y_train, epochs=epochs, callbacks=[tb_callback])"
   ]
  },
  {
   "cell_type": "markdown",
   "id": "383299cf",
   "metadata": {},
   "source": [
    "<a id=\"16\"></a>\n",
    "# 8. Make Precitions"
   ]
  },
  {
   "cell_type": "code",
   "execution_count": 32,
   "id": "84b44989",
   "metadata": {},
   "outputs": [],
   "source": [
    "y_head = model.predict(X_test)"
   ]
  },
  {
   "cell_type": "code",
   "execution_count": 33,
   "id": "ffed1958",
   "metadata": {},
   "outputs": [
    {
     "name": "stdout",
     "output_type": "stream",
     "text": [
      "X_test shape:  (5, 30, 1662)\n",
      "y_head shape:  (5, 3)\n"
     ]
    }
   ],
   "source": [
    "print(\"X_test shape: \", X_test.shape)\n",
    "print(\"y_head shape: \", y_head.shape)"
   ]
  },
  {
   "cell_type": "code",
   "execution_count": 34,
   "id": "cc1d6580",
   "metadata": {},
   "outputs": [
    {
     "data": {
      "text/plain": [
       "array([[0.00133037, 0.00167425, 0.99699533],\n",
       "       [0.17314357, 0.07383862, 0.75301784],\n",
       "       [0.456451  , 0.501795  , 0.04175403],\n",
       "       [0.04370437, 0.02803317, 0.92826253],\n",
       "       [0.43388492, 0.46357897, 0.10253619]], dtype=float32)"
      ]
     },
     "execution_count": 34,
     "metadata": {},
     "output_type": "execute_result"
    }
   ],
   "source": [
    "y_head"
   ]
  },
  {
   "cell_type": "code",
   "execution_count": 35,
   "id": "b11ae430",
   "metadata": {},
   "outputs": [
    {
     "data": {
      "text/plain": [
       "array([0.456451  , 0.501795  , 0.04175403], dtype=float32)"
      ]
     },
     "execution_count": 35,
     "metadata": {},
     "output_type": "execute_result"
    }
   ],
   "source": [
    "y_head[2] # the probalities of classes"
   ]
  },
  {
   "cell_type": "code",
   "execution_count": 36,
   "id": "6a307750",
   "metadata": {},
   "outputs": [
    {
     "data": {
      "text/plain": [
       "1.0"
      ]
     },
     "execution_count": 36,
     "metadata": {},
     "output_type": "execute_result"
    }
   ],
   "source": [
    "np.sum(y_head[2])"
   ]
  },
  {
   "cell_type": "code",
   "execution_count": 37,
   "id": "8b5bad5e",
   "metadata": {},
   "outputs": [
    {
     "data": {
      "text/plain": [
       "1"
      ]
     },
     "execution_count": 37,
     "metadata": {},
     "output_type": "execute_result"
    }
   ],
   "source": [
    "np.argmax(y_head[2])"
   ]
  },
  {
   "cell_type": "code",
   "execution_count": 38,
   "id": "b624163b",
   "metadata": {},
   "outputs": [
    {
     "data": {
      "text/plain": [
       "'gunaydin'"
      ]
     },
     "execution_count": 38,
     "metadata": {},
     "output_type": "execute_result"
    }
   ],
   "source": [
    "actions[np.argmax(y_head[2])]"
   ]
  },
  {
   "cell_type": "markdown",
   "id": "a52aa609",
   "metadata": {},
   "source": [
    "<a id=\"18\"></a>\n",
    "# 9. Save Model"
   ]
  },
  {
   "cell_type": "code",
   "execution_count": 93,
   "id": "8d893ca2",
   "metadata": {},
   "outputs": [
    {
     "name": "stdout",
     "output_type": "stream",
     "text": [
      "sign_lstm_2022_05_01_time_21_04_27_epochs_100.h5\n",
      "workspace/models/sign_lstm_2022_05_01_time_21_04_27_epochs_100.h5\n",
      "WARNING:tensorflow:Compiled the loaded model, but the compiled metrics have yet to be built. `model.compile_metrics` will be empty until you train or evaluate the model.\n",
      "sign_lstm_2022_05_01_time_21_04_27_epochs_100.h5 SAVED.\n"
     ]
    }
   ],
   "source": [
    "name_of_model = f\"sign_lstm_{time_of_model}_epochs_{epochs}.h5\"\n",
    "print(name_of_model)\n",
    "model_path = \"workspace/models/\" + name_of_model\n",
    "print(model_path)\n",
    "\n",
    "model.save(name_of_model)\n",
    "print(name_of_model,\"SAVED.\")"
   ]
  },
  {
   "cell_type": "code",
   "execution_count": 112,
   "id": "16f47ddf",
   "metadata": {},
   "outputs": [
    {
     "name": "stdout",
     "output_type": "stream",
     "text": [
      "workspace/models/sign_lstm_2022_04_30_time_17_58_55_epochs_200.h5\n"
     ]
    }
   ],
   "source": [
    "name_of_model = \"sign_lstm_2022_04_30_time_17_58_55_epochs_200.h5\"  # our best model\n",
    "\n",
    "model_path = \"workspace/models/\"+name_of_model\n",
    "\n",
    "print(model_path)"
   ]
  },
  {
   "cell_type": "code",
   "execution_count": 113,
   "id": "afce90e8",
   "metadata": {},
   "outputs": [],
   "source": [
    "del model"
   ]
  },
  {
   "cell_type": "code",
   "execution_count": 114,
   "id": "b022c9cb",
   "metadata": {},
   "outputs": [
    {
     "name": "stdout",
     "output_type": "stream",
     "text": [
      "WARNING:tensorflow:Layer lstm_30 will not use cuDNN kernels since it doesn't meet the criteria. It will use a generic GPU kernel as fallback when running on GPU.\n",
      "WARNING:tensorflow:Layer lstm_31 will not use cuDNN kernels since it doesn't meet the criteria. It will use a generic GPU kernel as fallback when running on GPU.\n",
      "WARNING:tensorflow:Layer lstm_32 will not use cuDNN kernels since it doesn't meet the criteria. It will use a generic GPU kernel as fallback when running on GPU.\n"
     ]
    }
   ],
   "source": [
    "model = create_model()\n",
    "\n",
    "model.load_weights(model_path)"
   ]
  },
  {
   "cell_type": "markdown",
   "id": "024ee9ed",
   "metadata": {},
   "source": [
    "<a id=\"19\"></a>\n",
    "# 10. Evaluation using Confusion Matrix and Accuracy"
   ]
  },
  {
   "cell_type": "code",
   "execution_count": 115,
   "id": "f232f2e3",
   "metadata": {},
   "outputs": [],
   "source": [
    "from sklearn.metrics import multilabel_confusion_matrix, accuracy_score"
   ]
  },
  {
   "cell_type": "markdown",
   "id": "2f52c929",
   "metadata": {},
   "source": [
    "<a id=\"21\"></a>\n",
    "## 10.A. Evaluating on Training Set"
   ]
  },
  {
   "cell_type": "code",
   "execution_count": 116,
   "id": "b74c40c7",
   "metadata": {},
   "outputs": [],
   "source": [
    "yhat = model.predict(X_train)"
   ]
  },
  {
   "cell_type": "code",
   "execution_count": 117,
   "id": "f40e7a5c",
   "metadata": {},
   "outputs": [],
   "source": [
    "ytrue = np.argmax(y_train, axis=1).tolist()\n",
    "yhat = np.argmax(yhat, axis=1).tolist()"
   ]
  },
  {
   "cell_type": "code",
   "execution_count": 118,
   "id": "739e3c9f",
   "metadata": {},
   "outputs": [
    {
     "data": {
      "text/plain": [
       "array([[[57,  0],\n",
       "        [ 0, 28]],\n",
       "\n",
       "       [[56,  0],\n",
       "        [ 0, 29]],\n",
       "\n",
       "       [[57,  0],\n",
       "        [ 0, 28]]], dtype=int64)"
      ]
     },
     "execution_count": 118,
     "metadata": {},
     "output_type": "execute_result"
    }
   ],
   "source": [
    "multilabel_confusion_matrix(ytrue, yhat)"
   ]
  },
  {
   "cell_type": "code",
   "execution_count": 119,
   "id": "c6f86b68",
   "metadata": {},
   "outputs": [
    {
     "data": {
      "text/plain": [
       "1.0"
      ]
     },
     "execution_count": 119,
     "metadata": {},
     "output_type": "execute_result"
    }
   ],
   "source": [
    "accuracy_score(ytrue, yhat)"
   ]
  },
  {
   "cell_type": "markdown",
   "id": "ac054d6a",
   "metadata": {},
   "source": [
    "<a id=\"22\"></a>\n",
    "## 10.B. Evaluating on Test Set"
   ]
  },
  {
   "cell_type": "code",
   "execution_count": 120,
   "id": "eff01b3b",
   "metadata": {},
   "outputs": [],
   "source": [
    "yhat = model.predict(X_test)"
   ]
  },
  {
   "cell_type": "code",
   "execution_count": 121,
   "id": "59b9cbf7",
   "metadata": {},
   "outputs": [],
   "source": [
    "ytrue = np.argmax(y_test, axis=1).tolist()\n",
    "yhat = np.argmax(yhat, axis=1).tolist()"
   ]
  },
  {
   "cell_type": "code",
   "execution_count": 122,
   "id": "08e180b2",
   "metadata": {},
   "outputs": [
    {
     "data": {
      "text/plain": [
       "array([[[3, 0],\n",
       "        [0, 2]],\n",
       "\n",
       "       [[4, 0],\n",
       "        [0, 1]],\n",
       "\n",
       "       [[3, 0],\n",
       "        [0, 2]]], dtype=int64)"
      ]
     },
     "execution_count": 122,
     "metadata": {},
     "output_type": "execute_result"
    }
   ],
   "source": [
    "multilabel_confusion_matrix(ytrue, yhat)"
   ]
  },
  {
   "cell_type": "code",
   "execution_count": 123,
   "id": "3e18265d",
   "metadata": {},
   "outputs": [
    {
     "data": {
      "text/plain": [
       "1.0"
      ]
     },
     "execution_count": 123,
     "metadata": {},
     "output_type": "execute_result"
    }
   ],
   "source": [
    "accuracy_score(ytrue, yhat)"
   ]
  },
  {
   "cell_type": "markdown",
   "id": "4ef6af61",
   "metadata": {},
   "source": [
    "<a id=\"20\"></a>\n",
    "# 11. Test in Real Time"
   ]
  },
  {
   "cell_type": "markdown",
   "id": "cb0a2b83",
   "metadata": {},
   "source": [
    "<a id=\"23\"></a>\n",
    "##  11.A. Expected Input for LSTM Model\n",
    "\n",
    "The input that LSTM model expects is : **(num_sequences,30,1662)**"
   ]
  },
  {
   "cell_type": "code",
   "execution_count": 53,
   "id": "e28dcdf6",
   "metadata": {},
   "outputs": [
    {
     "data": {
      "text/plain": [
       "(5, 30, 1662)"
      ]
     },
     "execution_count": 53,
     "metadata": {},
     "output_type": "execute_result"
    }
   ],
   "source": [
    "X_test.shape"
   ]
  },
  {
   "cell_type": "code",
   "execution_count": 54,
   "id": "72555d17",
   "metadata": {},
   "outputs": [
    {
     "data": {
      "text/plain": [
       "(85, 30, 1662)"
      ]
     },
     "execution_count": 54,
     "metadata": {},
     "output_type": "execute_result"
    }
   ],
   "source": [
    "X_train.shape"
   ]
  },
  {
   "cell_type": "code",
   "execution_count": 55,
   "id": "feeee330",
   "metadata": {},
   "outputs": [
    {
     "data": {
      "text/plain": [
       "(30, 1662)"
      ]
     },
     "execution_count": 55,
     "metadata": {},
     "output_type": "execute_result"
    }
   ],
   "source": [
    "X_test[0].shape"
   ]
  },
  {
   "cell_type": "code",
   "execution_count": 56,
   "id": "e70a4ace",
   "metadata": {},
   "outputs": [
    {
     "name": "stdout",
     "output_type": "stream",
     "text": [
      "test_0 shape (1, 30, 1662)\n",
      "test_1 shape (1, 30, 1662)\n"
     ]
    }
   ],
   "source": [
    "# model input\n",
    "test_0 = np.expand_dims(X_test[0], axis=0)\n",
    "test_1 = np.expand_dims(X_test[1], axis=0)\n",
    "\n",
    "print(\"test_0 shape\",test_0.shape)\n",
    "print(\"test_1 shape\",test_1.shape)"
   ]
  },
  {
   "cell_type": "code",
   "execution_count": 104,
   "id": "a937b10b",
   "metadata": {},
   "outputs": [
    {
     "name": "stdout",
     "output_type": "stream",
     "text": [
      "sequence shape:  (2, 30, 1662)\n"
     ]
    },
    {
     "data": {
      "text/plain": [
       "array([[2.3032386e-07, 9.9999976e-01, 1.6849479e-10],\n",
       "       [1.0000000e+00, 3.6931600e-11, 2.4099025e-13]], dtype=float32)"
      ]
     },
     "execution_count": 104,
     "metadata": {},
     "output_type": "execute_result"
    }
   ],
   "source": [
    "sequence = np.array([])  \n",
    "sequence = np.append(test_0, test_1, axis=0)\n",
    "print(\"sequence shape: \", sequence.shape)\n",
    "\n",
    "results_of_LSTM = model.predict(sequence)\n",
    "results_of_LSTM"
   ]
  },
  {
   "cell_type": "code",
   "execution_count": 113,
   "id": "7045c7ca",
   "metadata": {},
   "outputs": [
    {
     "name": "stdout",
     "output_type": "stream",
     "text": [
      "0. result: gunaydin\n",
      "1. result: merhaba\n"
     ]
    }
   ],
   "source": [
    "for i in range(results_of_LSTM.shape[0]):\n",
    "    print(f\"{i}. result:\", actions[np.argmax(results_of_LSTM[i])])"
   ]
  },
  {
   "cell_type": "markdown",
   "id": "f03ac483",
   "metadata": {},
   "source": [
    "<a id=\"25\"></a>\n",
    "## 11.B. Visualization: How to Works"
   ]
  },
  {
   "cell_type": "code",
   "execution_count": 114,
   "id": "a0666fe9",
   "metadata": {},
   "outputs": [
    {
     "name": "stdout",
     "output_type": "stream",
     "text": [
      "1\n"
     ]
    }
   ],
   "source": [
    "results_of_LSTM = results_of_LSTM[0]  # we took just one\n",
    "\n",
    "index_of_highest_probability = np.argmax(results_of_LSTM)\n",
    "\n",
    "print(index_of_highest_probability)"
   ]
  },
  {
   "cell_type": "code",
   "execution_count": 115,
   "id": "e571aef4",
   "metadata": {},
   "outputs": [
    {
     "data": {
      "text/plain": [
       "0.99999976"
      ]
     },
     "execution_count": 115,
     "metadata": {},
     "output_type": "execute_result"
    }
   ],
   "source": [
    "probability_of_class = results_of_LSTM[index_of_highest_probability]"
   ]
  },
  {
   "cell_type": "code",
   "execution_count": 117,
   "id": "a384d806",
   "metadata": {},
   "outputs": [
    {
     "data": {
      "text/plain": [
       "True"
      ]
     },
     "execution_count": 117,
     "metadata": {},
     "output_type": "execute_result"
    }
   ],
   "source": [
    "threshold = 0.4qq\n",
    "\n",
    "results_of_LSTM[index_of_highest_probability] > threshold"
   ]
  },
  {
   "cell_type": "markdown",
   "id": "90979b0f",
   "metadata": {},
   "source": [
    "<a id=\"24\"></a>\n",
    "## 11.Z. Real Time Detection with Webcam"
   ]
  },
  {
   "cell_type": "code",
   "execution_count": 150,
   "id": "b96ed903",
   "metadata": {},
   "outputs": [],
   "source": [
    "# 1. New Detection Variables\n",
    "sequence = []  # holds 30 frames to give as a input to LSTM model and predict\n",
    "sentence = []  #\n",
    "threshold = 0.8\n",
    "LSTM_results = np.array([0])\n",
    "results_string = None\n",
    "\n",
    "cap = cv2.VideoCapture(0)\n",
    "\n",
    "# used to record the time when we processed last frame\n",
    "prev_frame_time = 0\n",
    "# used to record the time at which we processed current frame\n",
    "new_frame_time = 0\n",
    "\n",
    "# Initiate holistic model\n",
    "with mp_holistic.Holistic(model_complexity=1, min_detection_confidence=0.5, \n",
    "                          min_tracking_confidence=0.5) as holistic:\n",
    "    \n",
    "    while cap.isOpened():\n",
    "        \n",
    "        # time when we finish processing for this frame\n",
    "        new_frame_time = time.time()\n",
    "        \n",
    "        ret, frame = cap.read()\n",
    "        \n",
    "        # Make detections\n",
    "        image, results = mediapipe_detection(frame, holistic)\n",
    "        \n",
    "        # Draw landmarks\n",
    "        draw_styled_landmarks(image, results)\n",
    "        \n",
    "        \n",
    "        # 2. Prediction Logic\n",
    "        keypoints = extract_keypoints(results) # detect keypoints\n",
    "        sequence.append(keypoints)  # append a list\n",
    "        sequence = sequence[-30:]  # hold last keypoints of 30 frame\n",
    "        \n",
    "        if len(sequence) == 30:   # if there are 30 frames, ready to predict\n",
    "            # Prepare to be LSTM model input\n",
    "            LSTM_results = model.predict(np.expand_dims(sequence, axis=0))[0] # [0] cuz there is just 1 input\n",
    "#             print(\"aslkdjals\")\n",
    "            # print result class\n",
    "#             print(actions[np.argmax(LSTM_results)])\n",
    "#             print(\"%\",\" %.1f\" %(100*LSTM_results[np.argmax(LSTM_results)]))\n",
    "            results_string = str(actions[np.argmax(LSTM_results)]) + str(\"%\" + \" %.1f\" %(100*LSTM_results[np.argmax(LSTM_results)]))\n",
    "            \n",
    "            # 3. Viz logic - Filtering\n",
    "            if LSTM_results[np.argmax(LSTM_results)] > threshold: \n",
    "                if len(sentence) > 0:  \n",
    "                    # check the last result is the same as previous\n",
    "                    # if they are same, don't write or show in a row\n",
    "                    # if they are not, append sentence list\n",
    "                    if actions[np.argmax(LSTM_results)] != sentence[-1]:  \n",
    "                        sentence.append(actions[np.argmax(LSTM_results)])\n",
    "                else:\n",
    "                    sentence.append(actions[np.argmax(LSTM_results)])\n",
    "\n",
    "            if len(sentence) > 5:\n",
    "                sentence = sentence[-5:]\n",
    "            \n",
    "        cv2.rectangle(image, (0,0), (640, 40), (245, 117, 16), -1)\n",
    "        cv2.putText(image, ' '.join(sentence), (3,30), \n",
    "                       cv2.FONT_HERSHEY_SIMPLEX, 0.5, (255, 255, 255), 2, cv2.LINE_AA)\n",
    "        \n",
    "        \n",
    "        cv2.rectangle(image, (0,45), (640, 80), (0, 0, 255), -1)\n",
    "        if not results_string is None:\n",
    "            cv2.putText(image, results_string, (3,80), \n",
    "                       cv2.FONT_HERSHEY_SIMPLEX, 0.5, (255, 255, 255), 2, cv2.LINE_AA)\n",
    "\n",
    "        \n",
    "            \n",
    "        # fps will be number of frame processed in given time frame\n",
    "        # since their will be most of time error of 0.001 second\n",
    "        # we will be subtracting it to get more accurate result\n",
    "        fps = 1/(new_frame_time-prev_frame_time)\n",
    "        prev_frame_time = new_frame_time\n",
    "\n",
    "        # converting the fps into integer\n",
    "        fps = int(fps)\n",
    "        \n",
    "        # converting the fps to string so that we can display it on frame\n",
    "        # by using putText function\n",
    "        fps = str(fps)\n",
    "        fps = \"FPS:\" + fps\n",
    "        font = cv2.FONT_HERSHEY_SIMPLEX\n",
    "        \n",
    "        # putting the FPS count on the frame\n",
    "        cv2.putText(image, fps, (500, 70), font, 1, (100, 255, 0), 3, cv2.LINE_AA)\n",
    "    \n",
    "        cv2.imshow('Webcam with Detections', image)\n",
    "\n",
    "        if cv2.waitKey(1) & 0xFF == ord('q'):\n",
    "            break\n",
    "\n",
    "cap.release()\n",
    "cv2.destroyAllWindows()"
   ]
  },
  {
   "cell_type": "code",
   "execution_count": 143,
   "id": "37c7229f",
   "metadata": {},
   "outputs": [],
   "source": [
    "cap.release()\n",
    "cv2.destroyAllWindows()"
   ]
  },
  {
   "cell_type": "code",
   "execution_count": 151,
   "id": "65bef451",
   "metadata": {},
   "outputs": [],
   "source": [
    "colors = [(245,117,16), (117,245,16), (16,117,245)]\n",
    "def prob_viz(res, actions, input_frame, colors):\n",
    "    output_frame = input_frame.copy()\n",
    "    for num, prob in enumerate(res):\n",
    "        cv2.rectangle(output_frame, (0,90+num*40), (int(prob*100), 125+num*40), colors[num], -1)\n",
    "        cv2.putText(output_frame, actions[num], (0, 115+num*40), cv2.FONT_HERSHEY_SIMPLEX, 1, (255,255,255), 2, cv2.LINE_AA)\n",
    "        output_frame = cv2.cvtColor(output_frame, cv2.COLOR_BGR2RGB )\n",
    "    return output_frame"
   ]
  },
  {
   "cell_type": "code",
   "execution_count": 152,
   "id": "836916ef",
   "metadata": {},
   "outputs": [
    {
     "data": {
      "text/plain": [
       "<matplotlib.image.AxesImage at 0x206c96fe7c0>"
      ]
     },
     "execution_count": 152,
     "metadata": {},
     "output_type": "execute_result"
    },
    {
     "data": {
      "image/png": "[encoded data removed]",
      "text/plain": [
       "<Figure size 864x864 with 1 Axes>"
      ]
     },
     "metadata": {
      "needs_background": "light"
     },
     "output_type": "display_data"
    }
   ],
   "source": [
    "plt.figure(figsize=(12,12))\n",
    "plt.imshow(prob_viz(LSTM_results, actions, image, colors))"
   ]
  },
  {
   "cell_type": "code",
   "execution_count": null,
   "id": "3c137c62",
   "metadata": {},
   "outputs": [],
   "source": []
  },
  {
   "cell_type": "code",
   "execution_count": null,
   "id": "23d2a847",
   "metadata": {},
   "outputs": [],
   "source": []
  },
  {
   "cell_type": "code",
   "execution_count": null,
   "id": "935c20fe",
   "metadata": {},
   "outputs": [],
   "source": []
  },
  {
   "cell_type": "code",
   "execution_count": null,
   "id": "205157fa",
   "metadata": {},
   "outputs": [],
   "source": []
  },
  {
   "cell_type": "code",
   "execution_count": null,
   "id": "22296336",
   "metadata": {},
   "outputs": [],
   "source": []
  },
  {
   "cell_type": "code",
   "execution_count": null,
   "id": "7743546b",
   "metadata": {},
   "outputs": [],
   "source": []
  },
  {
   "cell_type": "markdown",
   "id": "f199bc61",
   "metadata": {},
   "source": [
    "<a id=\"99\"></a>\n",
    "#  Appendix"
   ]
  },
  {
   "cell_type": "markdown",
   "id": "3903f6a2",
   "metadata": {},
   "source": [
    "<a id=\"100\"></a>\n",
    "## A. Results of Pose Landmarks"
   ]
  },
  {
   "cell_type": "code",
   "execution_count": 24,
   "id": "2d18e4c3",
   "metadata": {
    "scrolled": true
   },
   "outputs": [
    {
     "data": {
      "text/plain": [
       "[x: 0.5141614079475403\n",
       "y: 0.6165520548820496\n",
       "z: -1.25775945186615\n",
       "visibility: 0.999890923500061\n",
       ", x: 0.5511156320571899\n",
       "y: 0.5450717210769653\n",
       "z: -1.179680347442627\n",
       "visibility: 0.9998156428337097\n",
       ", x: 0.5697636604309082\n",
       "y: 0.5440178513526917\n",
       "z: -1.1794750690460205\n",
       "visibility: 0.9997128248214722\n",
       ", x: 0.5855486392974854\n",
       "y: 0.5443496704101562\n",
       "z: -1.1796398162841797\n",
       "visibility: 0.9997063875198364\n",
       ", x: 0.4863967299461365\n",
       "y: 0.547933042049408\n",
       "z: -1.1628538370132446\n",
       "visibility: 0.9998546838760376\n",
       ", x: 0.46225613355636597\n",
       "y: 0.547667384147644\n",
       "z: -1.1621160507202148\n",
       "visibility: 0.9998449087142944\n",
       ", x: 0.4425380229949951\n",
       "y: 0.5470107197761536\n",
       "z: -1.1623328924179077\n",
       "visibility: 0.9998963475227356\n",
       ", x: 0.6159738302230835\n",
       "y: 0.5768585205078125\n",
       "z: -0.6748819351196289\n",
       "visibility: 0.9996434450149536\n",
       ", x: 0.42484012246131897\n",
       "y: 0.5758057832717896\n",
       "z: -0.5735811591148376\n",
       "visibility: 0.9999149441719055\n",
       ", x: 0.5536717176437378\n",
       "y: 0.6851505637168884\n",
       "z: -1.0753934383392334\n",
       "visibility: 0.9998718500137329\n",
       ", x: 0.471693754196167\n",
       "y: 0.6842504143714905\n",
       "z: -1.0490272045135498\n",
       "visibility: 0.9999369978904724\n",
       ", x: 0.7543099522590637\n",
       "y: 0.9379904866218567\n",
       "z: -0.3809496760368347\n",
       "visibility: 0.9943176507949829\n",
       ", x: 0.27315300703048706\n",
       "y: 0.8930252194404602\n",
       "z: -0.3590572476387024\n",
       "visibility: 0.9993846416473389\n",
       ", x: 0.890791118144989\n",
       "y: 1.4007318019866943\n",
       "z: -0.36563292145729065\n",
       "visibility: 0.186692014336586\n",
       ", x: -0.06555678695440292\n",
       "y: 1.0242609977722168\n",
       "z: -1.0802943706512451\n",
       "visibility: 0.9212841987609863\n",
       ", x: 0.9025050401687622\n",
       "y: 1.7410413026809692\n",
       "z: -0.5242868661880493\n",
       "visibility: 0.10095713287591934\n",
       ", x: 0.13169167935848236\n",
       "y: 0.639714777469635\n",
       "z: -2.0350699424743652\n",
       "visibility: 0.8757381439208984\n",
       ", x: 0.9388507604598999\n",
       "y: 1.852465271949768\n",
       "z: -0.6053280830383301\n",
       "visibility: 0.10056430101394653\n",
       ", x: 0.21211712062358856\n",
       "y: 0.48843392729759216\n",
       "z: -2.259369134902954\n",
       "visibility: 0.8419697284698486\n",
       ", x: 0.8813043832778931\n",
       "y: 1.8443435430526733\n",
       "z: -0.6318313479423523\n",
       "visibility: 0.14808101952075958\n",
       ", x: 0.23927827179431915\n",
       "y: 0.4819580614566803\n",
       "z: -2.113603115081787\n",
       "visibility: 0.86006098985672\n",
       ", x: 0.8525479435920715\n",
       "y: 1.809162974357605\n",
       "z: -0.5563163757324219\n",
       "visibility: 0.15329426527023315\n",
       ", x: 0.23165461421012878\n",
       "y: 0.5612024068832397\n",
       "z: -2.0135936737060547\n",
       "visibility: 0.8488885164260864\n",
       ", x: 0.637438178062439\n",
       "y: 1.767859935760498\n",
       "z: -0.12033575773239136\n",
       "visibility: 0.0007482937653549016\n",
       ", x: 0.2983826994895935\n",
       "y: 1.7471710443496704\n",
       "z: 0.12582436203956604\n",
       "visibility: 0.0011184224858880043\n",
       ", x: 0.6131675243377686\n",
       "y: 2.4849331378936768\n",
       "z: -0.27445971965789795\n",
       "visibility: 0.001075357780791819\n",
       ", x: 0.30485591292381287\n",
       "y: 2.47705078125\n",
       "z: 0.400484174489975\n",
       "visibility: 0.0007304207538254559\n",
       ", x: 0.5968436598777771\n",
       "y: 3.1227335929870605\n",
       "z: 0.39707329869270325\n",
       "visibility: 0.00011289321992080659\n",
       ", x: 0.2941601276397705\n",
       "y: 3.1009631156921387\n",
       "z: 1.0901963710784912\n",
       "visibility: 1.6570122170378454e-05\n",
       ", x: 0.6027259230613708\n",
       "y: 3.217487335205078\n",
       "z: 0.4207191467285156\n",
       "visibility: 5.066597805125639e-05\n",
       ", x: 0.2838367521762848\n",
       "y: 3.1858344078063965\n",
       "z: 1.1454795598983765\n",
       "visibility: 4.032169817946851e-05\n",
       ", x: 0.5402494668960571\n",
       "y: 3.3173696994781494\n",
       "z: -0.3656023144721985\n",
       "visibility: 5.761236388934776e-05\n",
       ", x: 0.33028045296669006\n",
       "y: 3.3195226192474365\n",
       "z: 0.35249781608581543\n",
       "visibility: 9.318775846622884e-05\n",
       "]"
      ]
     },
     "execution_count": 24,
     "metadata": {},
     "output_type": "execute_result"
    }
   ],
   "source": [
    "results.pose_landmarks.landmark"
   ]
  },
  {
   "cell_type": "code",
   "execution_count": 25,
   "id": "3333b4d5",
   "metadata": {},
   "outputs": [
    {
     "data": {
      "text/plain": [
       "landmark {\n",
       "  x: 0.5141614079475403\n",
       "  y: 0.6165520548820496\n",
       "  z: -1.25775945186615\n",
       "  visibility: 0.999890923500061\n",
       "}\n",
       "landmark {\n",
       "  x: 0.5511156320571899\n",
       "  y: 0.5450717210769653\n",
       "  z: -1.179680347442627\n",
       "  visibility: 0.9998156428337097\n",
       "}\n",
       "landmark {\n",
       "  x: 0.5697636604309082\n",
       "  y: 0.5440178513526917\n",
       "  z: -1.1794750690460205\n",
       "  visibility: 0.9997128248214722\n",
       "}\n",
       "landmark {\n",
       "  x: 0.5855486392974854\n",
       "  y: 0.5443496704101562\n",
       "  z: -1.1796398162841797\n",
       "  visibility: 0.9997063875198364\n",
       "}\n",
       "landmark {\n",
       "  x: 0.4863967299461365\n",
       "  y: 0.547933042049408\n",
       "  z: -1.1628538370132446\n",
       "  visibility: 0.9998546838760376\n",
       "}\n",
       "landmark {\n",
       "  x: 0.46225613355636597\n",
       "  y: 0.547667384147644\n",
       "  z: -1.1621160507202148\n",
       "  visibility: 0.9998449087142944\n",
       "}\n",
       "landmark {\n",
       "  x: 0.4425380229949951\n",
       "  y: 0.5470107197761536\n",
       "  z: -1.1623328924179077\n",
       "  visibility: 0.9998963475227356\n",
       "}\n",
       "landmark {\n",
       "  x: 0.6159738302230835\n",
       "  y: 0.5768585205078125\n",
       "  z: -0.6748819351196289\n",
       "  visibility: 0.9996434450149536\n",
       "}\n",
       "landmark {\n",
       "  x: 0.42484012246131897\n",
       "  y: 0.5758057832717896\n",
       "  z: -0.5735811591148376\n",
       "  visibility: 0.9999149441719055\n",
       "}\n",
       "landmark {\n",
       "  x: 0.5536717176437378\n",
       "  y: 0.6851505637168884\n",
       "  z: -1.0753934383392334\n",
       "  visibility: 0.9998718500137329\n",
       "}\n",
       "landmark {\n",
       "  x: 0.471693754196167\n",
       "  y: 0.6842504143714905\n",
       "  z: -1.0490272045135498\n",
       "  visibility: 0.9999369978904724\n",
       "}\n",
       "landmark {\n",
       "  x: 0.7543099522590637\n",
       "  y: 0.9379904866218567\n",
       "  z: -0.3809496760368347\n",
       "  visibility: 0.9943176507949829\n",
       "}\n",
       "landmark {\n",
       "  x: 0.27315300703048706\n",
       "  y: 0.8930252194404602\n",
       "  z: -0.3590572476387024\n",
       "  visibility: 0.9993846416473389\n",
       "}\n",
       "landmark {\n",
       "  x: 0.890791118144989\n",
       "  y: 1.4007318019866943\n",
       "  z: -0.36563292145729065\n",
       "  visibility: 0.186692014336586\n",
       "}\n",
       "landmark {\n",
       "  x: -0.06555678695440292\n",
       "  y: 1.0242609977722168\n",
       "  z: -1.0802943706512451\n",
       "  visibility: 0.9212841987609863\n",
       "}\n",
       "landmark {\n",
       "  x: 0.9025050401687622\n",
       "  y: 1.7410413026809692\n",
       "  z: -0.5242868661880493\n",
       "  visibility: 0.10095713287591934\n",
       "}\n",
       "landmark {\n",
       "  x: 0.13169167935848236\n",
       "  y: 0.639714777469635\n",
       "  z: -2.0350699424743652\n",
       "  visibility: 0.8757381439208984\n",
       "}\n",
       "landmark {\n",
       "  x: 0.9388507604598999\n",
       "  y: 1.852465271949768\n",
       "  z: -0.6053280830383301\n",
       "  visibility: 0.10056430101394653\n",
       "}\n",
       "landmark {\n",
       "  x: 0.21211712062358856\n",
       "  y: 0.48843392729759216\n",
       "  z: -2.259369134902954\n",
       "  visibility: 0.8419697284698486\n",
       "}\n",
       "landmark {\n",
       "  x: 0.8813043832778931\n",
       "  y: 1.8443435430526733\n",
       "  z: -0.6318313479423523\n",
       "  visibility: 0.14808101952075958\n",
       "}\n",
       "landmark {\n",
       "  x: 0.23927827179431915\n",
       "  y: 0.4819580614566803\n",
       "  z: -2.113603115081787\n",
       "  visibility: 0.86006098985672\n",
       "}\n",
       "landmark {\n",
       "  x: 0.8525479435920715\n",
       "  y: 1.809162974357605\n",
       "  z: -0.5563163757324219\n",
       "  visibility: 0.15329426527023315\n",
       "}\n",
       "landmark {\n",
       "  x: 0.23165461421012878\n",
       "  y: 0.5612024068832397\n",
       "  z: -2.0135936737060547\n",
       "  visibility: 0.8488885164260864\n",
       "}\n",
       "landmark {\n",
       "  x: 0.637438178062439\n",
       "  y: 1.767859935760498\n",
       "  z: -0.12033575773239136\n",
       "  visibility: 0.0007482937653549016\n",
       "}\n",
       "landmark {\n",
       "  x: 0.2983826994895935\n",
       "  y: 1.7471710443496704\n",
       "  z: 0.12582436203956604\n",
       "  visibility: 0.0011184224858880043\n",
       "}\n",
       "landmark {\n",
       "  x: 0.6131675243377686\n",
       "  y: 2.4849331378936768\n",
       "  z: -0.27445971965789795\n",
       "  visibility: 0.001075357780791819\n",
       "}\n",
       "landmark {\n",
       "  x: 0.30485591292381287\n",
       "  y: 2.47705078125\n",
       "  z: 0.400484174489975\n",
       "  visibility: 0.0007304207538254559\n",
       "}\n",
       "landmark {\n",
       "  x: 0.5968436598777771\n",
       "  y: 3.1227335929870605\n",
       "  z: 0.39707329869270325\n",
       "  visibility: 0.00011289321992080659\n",
       "}\n",
       "landmark {\n",
       "  x: 0.2941601276397705\n",
       "  y: 3.1009631156921387\n",
       "  z: 1.0901963710784912\n",
       "  visibility: 1.6570122170378454e-05\n",
       "}\n",
       "landmark {\n",
       "  x: 0.6027259230613708\n",
       "  y: 3.217487335205078\n",
       "  z: 0.4207191467285156\n",
       "  visibility: 5.066597805125639e-05\n",
       "}\n",
       "landmark {\n",
       "  x: 0.2838367521762848\n",
       "  y: 3.1858344078063965\n",
       "  z: 1.1454795598983765\n",
       "  visibility: 4.032169817946851e-05\n",
       "}\n",
       "landmark {\n",
       "  x: 0.5402494668960571\n",
       "  y: 3.3173696994781494\n",
       "  z: -0.3656023144721985\n",
       "  visibility: 5.761236388934776e-05\n",
       "}\n",
       "landmark {\n",
       "  x: 0.33028045296669006\n",
       "  y: 3.3195226192474365\n",
       "  z: 0.35249781608581543\n",
       "  visibility: 9.318775846622884e-05\n",
       "}"
      ]
     },
     "execution_count": 25,
     "metadata": {},
     "output_type": "execute_result"
    }
   ],
   "source": [
    "results.pose_landmarks"
   ]
  },
  {
   "cell_type": "markdown",
   "id": "f32eafb5",
   "metadata": {},
   "source": [
    "<a id=\"101\"></a>\n",
    "## B. Results of Face and Hands Landmarks"
   ]
  },
  {
   "cell_type": "code",
   "execution_count": 26,
   "id": "cfa02016",
   "metadata": {},
   "outputs": [
    {
     "name": "stdout",
     "output_type": "stream",
     "text": [
      "Length of Face landmarks: 468 \n",
      "\n",
      "Results of Face Landmarks:\n",
      "\n",
      " [x: 0.5259276032447815\n",
      "y: 0.6822701096534729\n",
      "z: -0.01917046681046486\n",
      ", x: 0.5232789516448975\n",
      "y: 0.6415139436721802\n",
      "z: -0.05146805942058563\n",
      ", x: 0.5242794156074524\n",
      "y: 0.6517978310585022\n",
      "z: -0.024426501244306564\n",
      ", x: 0.5133021473884583\n",
      "y: 0.5888444781303406\n",
      "z: -0.043024785816669464\n",
      ", x: 0.5226163268089294\n",
      "y: 0.6261968016624451\n",
      "z: -0.056157518178224564\n",
      ", x: 0.5218721032142639\n",
      "y: 0.6045670509338379\n",
      "z: -0.05427706614136696\n",
      ", x: 0.5204066038131714\n",
      "y: 0.5517363548278809\n",
      "z: -0.03400222957134247\n",
      ", x: 0.454171746969223\n",
      "y: 0.5472753047943115\n",
      "z: 0.007988370023667812\n",
      ", x: 0.5193402171134949\n",
      "y: 0.5199099779129028\n",
      "z: -0.031283408403396606\n",
      ", x: 0.5186427235603333\n",
      "y: 0.5010544061660767\n",
      "z: -0.03537685051560402\n",
      ", x: 0.5161066055297852\n",
      "y: 0.42060616612434387\n",
      "z: -0.0327782928943634\n",
      ", x: 0.5262516736984253\n",
      "y: 0.6887416839599609\n",
      "z: -0.0171036534011364\n",
      ", x: 0.5265765190124512\n",
      "y: 0.6925169825553894\n",
      "z: -0.013530422002077103\n",
      ", x: 0.5268093943595886\n",
      "y: 0.6927921175956726\n",
      "z: -0.008982405997812748\n",
      ", x: 0.5270394682884216\n",
      "y: 0.696252703666687\n",
      "z: -0.008232800289988518\n",
      ", x: 0.5272759199142456\n",
      "y: 0.7015763521194458\n",
      "z: -0.009491709060966969\n",
      ", x: 0.5275328159332275\n",
      "y: 0.7084745168685913\n",
      "z: -0.011448814533650875\n",
      ", x: 0.527917742729187\n",
      "y: 0.7163857817649841\n",
      "z: -0.01015474833548069\n",
      ", x: 0.5286684632301331\n",
      "y: 0.7319836616516113\n",
      "z: -0.000920397462323308\n",
      ", x: 0.5236875414848328\n",
      "y: 0.6482287049293518\n",
      "z: -0.045829664915800095\n",
      ", x: 0.5139303803443909\n",
      "y: 0.6453997492790222\n",
      "z: -0.03182259202003479\n",
      ", x: 0.41692760586738586\n",
      "y: 0.48962104320526123\n",
      "z: 0.046465206891298294\n",
      ", x: 0.48251795768737793\n",
      "y: 0.5560786128044128\n",
      "z: -0.0011843906249850988\n",
      ", x: 0.4732815623283386\n",
      "y: 0.5578195452690125\n",
      "z: -0.00027695056633092463\n",
      ", x: 0.4639604687690735\n",
      "y: 0.5582314729690552\n",
      "z: 0.002478157402947545\n",
      ", x: 0.4503151774406433\n",
      "y: 0.5522927045822144\n",
      "z: 0.01004721038043499\n",
      ", x: 0.48969802260398865\n",
      "y: 0.5524826049804688\n",
      "z: -0.001051102066412568\n",
      ", x: 0.4672212600708008\n",
      "y: 0.5297911763191223\n",
      "z: -0.007916581816971302\n",
      ", x: 0.476828932762146\n",
      "y: 0.5289393663406372\n",
      "z: -0.008027452975511551\n",
      ", x: 0.4584415853023529\n",
      "y: 0.5322189331054688\n",
      "z: -0.004456148482859135\n",
      ", x: 0.45262211561203003\n",
      "y: 0.5361378788948059\n",
      "z: 7.80515529186232e-06\n",
      ", x: 0.44286075234413147\n",
      "y: 0.5611847639083862\n",
      "z: 0.015740972012281418\n",
      ", x: 0.4934844374656677\n",
      "y: 0.7580288648605347\n",
      "z: 0.016340216621756554\n",
      ", x: 0.450126588344574\n",
      "y: 0.5449901819229126\n",
      "z: 0.010615904815495014\n",
      ", x: 0.414344847202301\n",
      "y: 0.5531122088432312\n",
      "z: 0.05859648063778877\n",
      ", x: 0.4313223361968994\n",
      "y: 0.5532687306404114\n",
      "z: 0.024317219853401184\n",
      ", x: 0.47426870465278625\n",
      "y: 0.6191300749778748\n",
      "z: -0.0038788034580647945\n",
      ", x: 0.5124807357788086\n",
      "y: 0.6800816059112549\n",
      "z: -0.01790929026901722\n",
      ", x: 0.5145388841629028\n",
      "y: 0.6921031475067139\n",
      "z: -0.011597329750657082\n",
      ", x: 0.4992435872554779\n",
      "y: 0.6820479035377502\n",
      "z: -0.010961226187646389\n",
      ", x: 0.49100416898727417\n",
      "y: 0.6848577857017517\n",
      "z: -0.0020456823986023664\n",
      ", x: 0.504688560962677\n",
      "y: 0.6913352012634277\n",
      "z: -0.006769221741706133\n",
      ", x: 0.49722611904144287\n",
      "y: 0.6908639669418335\n",
      "z: 0.0010969690047204494\n",
      ", x: 0.48163938522338867\n",
      "y: 0.7036389112472534\n",
      "z: 0.016078006476163864\n",
      ", x: 0.5148370265960693\n",
      "y: 0.6413005590438843\n",
      "z: -0.0505048893392086\n",
      ", x: 0.5130642652511597\n",
      "y: 0.6263259053230286\n",
      "z: -0.05486507713794708\n",
      ", x: 0.4365701377391815\n",
      "y: 0.5237666964530945\n",
      "z: -0.00028354758978821337\n",
      ", x: 0.49332576990127563\n",
      "y: 0.5823291540145874\n",
      "z: -0.010173659771680832\n",
      ", x: 0.4914342761039734\n",
      "y: 0.6313179731369019\n",
      "z: -0.025349989533424377\n",
      ", x: 0.49084141850471497\n",
      "y: 0.622438371181488\n",
      "z: -0.02286428026854992\n",
      ", x: 0.44567447900772095\n",
      "y: 0.6159781217575073\n",
      "z: 0.00903667788952589\n",
      ", x: 0.5131106972694397\n",
      "y: 0.6062419414520264\n",
      "z: -0.050824619829654694\n",
      ", x: 0.45901060104370117\n",
      "y: 0.5106781721115112\n",
      "z: -0.019502980634570122\n",
      ", x: 0.445648193359375\n",
      "y: 0.5153704285621643\n",
      "z: -0.011348475702106953\n",
      ", x: 0.4247661530971527\n",
      "y: 0.46538567543029785\n",
      "z: 0.02420404739677906\n",
      ", x: 0.5006955862045288\n",
      "y: 0.5185192823410034\n",
      "z: -0.02766031213104725\n",
      ", x: 0.48558104038238525\n",
      "y: 0.530958354473114\n",
      "z: -0.004820731468498707\n",
      ", x: 0.47248944640159607\n",
      "y: 0.6897667646408081\n",
      "z: 0.01746683567762375\n",
      ", x: 0.429561972618103\n",
      "y: 0.687107503414154\n",
      "z: 0.10073868930339813\n",
      ", x: 0.49864575266838074\n",
      "y: 0.6392872333526611\n",
      "z: -0.02103441022336483\n",
      ", x: 0.5071502327919006\n",
      "y: 0.6440663933753967\n",
      "z: -0.02207551896572113\n",
      ", x: 0.4819342792034149\n",
      "y: 0.6890273094177246\n",
      "z: 0.017020124942064285\n",
      ", x: 0.4865293502807617\n",
      "y: 0.6887681484222412\n",
      "z: 0.01423274353146553\n",
      ", x: 0.43975481390953064\n",
      "y: 0.5053184032440186\n",
      "z: -0.007332550827413797\n",
      ", x: 0.4910867512226105\n",
      "y: 0.6356377601623535\n",
      "z: -0.019177982583642006\n",
      ", x: 0.4772258996963501\n",
      "y: 0.5105990171432495\n",
      "z: -0.025016730651259422\n",
      ", x: 0.47460708022117615\n",
      "y: 0.4982728958129883\n",
      "z: -0.028406303375959396\n",
      ", x: 0.460852712392807\n",
      "y: 0.4312971830368042\n",
      "z: -0.017458181828260422\n",
      ", x: 0.43253493309020996\n",
      "y: 0.48422136902809143\n",
      "z: 0.006255090702325106\n",
      ", x: 0.46862664818763733\n",
      "y: 0.4628075361251831\n",
      "z: -0.0234259981662035\n",
      ", x: 0.43039971590042114\n",
      "y: 0.5161429643630981\n",
      "z: 0.007356369402259588\n",
      ", x: 0.4236171841621399\n",
      "y: 0.5032765865325928\n",
      "z: 0.025925030931830406\n",
      ", x: 0.5134027600288391\n",
      "y: 0.6877584457397461\n",
      "z: -0.015681995078921318\n",
      ", x: 0.502362072467804\n",
      "y: 0.6881493926048279\n",
      "z: -0.009050209075212479\n",
      ", x: 0.4942346513271332\n",
      "y: 0.6881677508354187\n",
      "z: -0.0010977110359817743\n",
      ", x: 0.5011165738105774\n",
      "y: 0.6412777304649353\n",
      "z: -0.019254665821790695\n",
      ", x: 0.4842057526111603\n",
      "y: 0.6888077855110168\n",
      "z: 0.015424307435750961\n",
      ", x: 0.48950523138046265\n",
      "y: 0.6931737065315247\n",
      "z: 0.009483059868216515\n",
      ", x: 0.48779579997062683\n",
      "y: 0.6884380578994751\n",
      "z: 0.013868894428014755\n",
      ", x: 0.5039902925491333\n",
      "y: 0.6384785175323486\n",
      "z: -0.035780392587184906\n",
      ", x: 0.4990582764148712\n",
      "y: 0.6891683340072632\n",
      "z: 0.00269796559587121\n",
      ", x: 0.5066896677017212\n",
      "y: 0.6907328367233276\n",
      "z: -0.002683907514438033\n",
      ", x: 0.5158780217170715\n",
      "y: 0.6923081874847412\n",
      "z: -0.007201466243714094\n",
      ", x: 0.5152700543403625\n",
      "y: 0.7318108081817627\n",
      "z: 0.0004365954373497516\n",
      ", x: 0.5154023170471191\n",
      "y: 0.7156621217727661\n",
      "z: -0.00858127698302269\n",
      ", x: 0.5154677033424377\n",
      "y: 0.7073179483413696\n",
      "z: -0.009864303283393383\n",
      ", x: 0.5156649351119995\n",
      "y: 0.70055091381073\n",
      "z: -0.007696153596043587\n",
      ", x: 0.5162014365196228\n",
      "y: 0.6960260272026062\n",
      "z: -0.006347354501485825\n",
      ", x: 0.4987882375717163\n",
      "y: 0.6927335858345032\n",
      "z: 0.0034002733882516623\n",
      ", x: 0.4974789321422577\n",
      "y: 0.6943498253822327\n",
      "z: 0.001992985140532255\n",
      ", x: 0.4958157539367676\n",
      "y: 0.6979374289512634\n",
      "z: 0.0011604102328419685\n",
      ", x: 0.4944399893283844\n",
      "y: 0.7027415037155151\n",
      "z: 0.003349370788782835\n",
      ", x: 0.4820164144039154\n",
      "y: 0.6699936389923096\n",
      "z: -0.0007227211026474833\n",
      ", x: 0.4173045754432678\n",
      "y: 0.6148044466972351\n",
      "z: 0.1065891683101654\n",
      ", x: 0.5239668488502502\n",
      "y: 0.6495813131332397\n",
      "z: -0.03206939995288849\n",
      ", x: 0.4937955141067505\n",
      "y: 0.691279947757721\n",
      "z: 0.009726720862090588\n",
      ", x: 0.491748183965683\n",
      "y: 0.6916109919548035\n",
      "z: 0.008954004384577274\n",
      ", x: 0.5109749436378479\n",
      "y: 0.6506263017654419\n",
      "z: -0.021419944241642952\n",
      ", x: 0.4945918917655945\n",
      "y: 0.6430596113204956\n",
      "z: -0.011289728805422783\n",
      ", x: 0.5090630054473877\n",
      "y: 0.6474952101707458\n",
      "z: -0.022174540907144547\n",
      ", x: 0.48376497626304626\n",
      "y: 0.5900671482086182\n",
      "z: -0.005317713133990765\n",
      ", x: 0.4681421220302582\n",
      "y: 0.5995411276817322\n",
      "z: -0.0013846195070073009\n",
      ", x: 0.48937347531318665\n",
      "y: 0.6273940205574036\n",
      "z: -0.016463452950119972\n",
      ", x: 0.43856996297836304\n",
      "y: 0.44551897048950195\n",
      "z: 0.0018970106029883027\n",
      ", x: 0.44687625765800476\n",
      "y: 0.4703311026096344\n",
      "z: -0.009539167396724224\n",
      ", x: 0.45495158433914185\n",
      "y: 0.49838292598724365\n",
      "z: -0.01866968534886837\n",
      ", x: 0.4905909299850464\n",
      "y: 0.714840292930603\n",
      "z: 0.010857148095965385\n",
      ", x: 0.4966312646865845\n",
      "y: 0.4996992349624634\n",
      "z: -0.03373415395617485\n",
      ", x: 0.4912523329257965\n",
      "y: 0.45984160900115967\n",
      "z: -0.031448666006326675\n",
      ", x: 0.4858194589614868\n",
      "y: 0.4236360192298889\n",
      "z: -0.02883065678179264\n",
      ", x: 0.455475389957428\n",
      "y: 0.556576669216156\n",
      "z: 0.006533051375299692\n",
      ", x: 0.4326310455799103\n",
      "y: 0.5710375308990479\n",
      "z: 0.022579725831747055\n",
      ", x: 0.4938858151435852\n",
      "y: 0.5489126443862915\n",
      "z: -0.00017411004228051752\n",
      ", x: 0.44161826372146606\n",
      "y: 0.5389886498451233\n",
      "z: 0.00827567558735609\n",
      ", x: 0.4996856153011322\n",
      "y: 0.5736638307571411\n",
      "z: -0.015153619460761547\n",
      ", x: 0.4974920153617859\n",
      "y: 0.6288354992866516\n",
      "z: -0.03599849343299866\n",
      ", x: 0.4228932559490204\n",
      "y: 0.5807810425758362\n",
      "z: 0.03493635356426239\n",
      ", x: 0.4397421181201935\n",
      "y: 0.5803980231285095\n",
      "z: 0.015226940624415874\n",
      ", x: 0.4522518515586853\n",
      "y: 0.5854291915893555\n",
      "z: 0.006704405415803194\n",
      ", x: 0.47048109769821167\n",
      "y: 0.5830687880516052\n",
      "z: 0.0012371012708172202\n",
      ", x: 0.4837910234928131\n",
      "y: 0.5771251916885376\n",
      "z: -0.0018643992953002453\n",
      ", x: 0.49312523007392883\n",
      "y: 0.5705540776252747\n",
      "z: -0.00574379600584507\n",
      ", x: 0.5114004015922546\n",
      "y: 0.5556434392929077\n",
      "z: -0.029285181313753128\n",
      ", x: 0.42463016510009766\n",
      "y: 0.6104092001914978\n",
      "z: 0.03589893504977226\n",
      ", x: 0.4332886040210724\n",
      "y: 0.536993145942688\n",
      "z: 0.01231309212744236\n",
      ", x: 0.5184435248374939\n",
      "y: 0.6477514505386353\n",
      "z: -0.04506991431117058\n",
      ", x: 0.49401360750198364\n",
      "y: 0.597894549369812\n",
      "z: -0.012460912577807903\n",
      ", x: 0.4125673770904541\n",
      "y: 0.5492236018180847\n",
      "z: 0.09061591327190399\n",
      ", x: 0.4998573362827301\n",
      "y: 0.5632787942886353\n",
      "z: -0.00856079626828432\n",
      ", x: 0.4885677993297577\n",
      "y: 0.626758873462677\n",
      "z: -0.006115633528679609\n",
      ", x: 0.4470898509025574\n",
      "y: 0.546150803565979\n",
      "z: 0.012445788830518723\n",
      ", x: 0.49697181582450867\n",
      "y: 0.6176877021789551\n",
      "z: -0.03304758667945862\n",
      ", x: 0.42173755168914795\n",
      "y: 0.6502934694290161\n",
      "z: 0.10610229521989822\n",
      ", x: 0.4928893744945526\n",
      "y: 0.5439568758010864\n",
      "z: 0.001687540439888835\n",
      ", x: 0.5048513412475586\n",
      "y: 0.6107298135757446\n",
      "z: -0.043983206152915955\n",
      ", x: 0.4500303864479065\n",
      "y: 0.7230081558227539\n",
      "z: 0.05262367054820061\n",
      ", x: 0.4526827037334442\n",
      "y: 0.7393033504486084\n",
      "z: 0.07116307318210602\n",
      ", x: 0.4165217876434326\n",
      "y: 0.6142688989639282\n",
      "z: 0.07132813334465027\n",
      ", x: 0.43690410256385803\n",
      "y: 0.7034502029418945\n",
      "z: 0.0629187822341919\n",
      ", x: 0.41863393783569336\n",
      "y: 0.5254220962524414\n",
      "z: 0.04469332471489906\n",
      ", x: 0.49229365587234497\n",
      "y: 0.77390456199646\n",
      "z: 0.023531975224614143\n",
      ", x: 0.5197202563285828\n",
      "y: 0.6491467952728271\n",
      "z: -0.03130866587162018\n",
      ", x: 0.4856676757335663\n",
      "y: 0.6076305508613586\n",
      "z: -0.007295838091522455\n",
      ", x: 0.4232397675514221\n",
      "y: 0.555422842502594\n",
      "z: 0.034458957612514496\n",
      ", x: 0.4646436274051666\n",
      "y: 0.549379825592041\n",
      "z: 0.002638076199218631\n",
      ", x: 0.473024845123291\n",
      "y: 0.5494391918182373\n",
      "z: 0.000119698655907996\n",
      ", x: 0.48736095428466797\n",
      "y: 0.6956673264503479\n",
      "z: 0.011476550251245499\n",
      ", x: 0.4265289008617401\n",
      "y: 0.6399891972541809\n",
      "z: 0.04294658824801445\n",
      ", x: 0.5110425353050232\n",
      "y: 0.7933761477470398\n",
      "z: 0.027060411870479584\n",
      ", x: 0.48163095116615295\n",
      "y: 0.7734473943710327\n",
      "z: 0.04639657214283943\n",
      ", x: 0.46838173270225525\n",
      "y: 0.7594109177589417\n",
      "z: 0.057531215250492096\n",
      ", x: 0.5173215866088867\n",
      "y: 0.45904824137687683\n",
      "z: -0.03458582982420921\n",
      ", x: 0.5311566591262817\n",
      "y: 0.7951774001121521\n",
      "z: 0.023750832304358482\n",
      ", x: 0.4806147813796997\n",
      "y: 0.5480223894119263\n",
      "z: -0.000725068268366158\n",
      ", x: 0.48741403222084045\n",
      "y: 0.5456253290176392\n",
      "z: 6.670906441286206e-05\n",
      ", x: 0.49135178327560425\n",
      "y: 0.5444900989532471\n",
      "z: 0.0016365997726097703\n",
      ", x: 0.42616039514541626\n",
      "y: 0.5329053997993469\n",
      "z: 0.021827423945069313\n",
      ", x: 0.4846372902393341\n",
      "y: 0.5376300811767578\n",
      "z: -0.0023441414814442396\n",
      ", x: 0.47660261392593384\n",
      "y: 0.5360615253448486\n",
      "z: -0.00441662035882473\n",
      ", x: 0.4687306582927704\n",
      "y: 0.5364047884941101\n",
      "z: -0.003699237946420908\n",
      ", x: 0.46072617173194885\n",
      "y: 0.5388794541358948\n",
      "z: -0.0010500476928427815\n",
      ", x: 0.4555723965167999\n",
      "y: 0.5419518351554871\n",
      "z: 0.0025961955543607473\n",
      ", x: 0.4130120575428009\n",
      "y: 0.5156677961349487\n",
      "z: 0.0703817829489708\n",
      ", x: 0.45863592624664307\n",
      "y: 0.5484328269958496\n",
      "z: 0.005474034696817398\n",
      ", x: 0.5248377919197083\n",
      "y: 0.661226749420166\n",
      "z: -0.020556297153234482\n",
      ", x: 0.490813672542572\n",
      "y: 0.6630484461784363\n",
      "z: -0.008353406563401222\n",
      ", x: 0.4984615743160248\n",
      "y: 0.6383529901504517\n",
      "z: -0.02547846920788288\n",
      ", x: 0.5105556845664978\n",
      "y: 0.6616010665893555\n",
      "z: -0.019109295681118965\n",
      ", x: 0.5198830962181091\n",
      "y: 0.5342878699302673\n",
      "z: -0.02863595448434353\n",
      ", x: 0.46470195055007935\n",
      "y: 0.7426862716674805\n",
      "z: 0.04430972412228584\n",
      ", x: 0.4781445264816284\n",
      "y: 0.7585049867630005\n",
      "z: 0.03472532704472542\n",
      ", x: 0.5097824931144714\n",
      "y: 0.7837604284286499\n",
      "z: 0.01373507734388113\n",
      ", x: 0.44031915068626404\n",
      "y: 0.7169350385665894\n",
      "z: 0.08731458336114883\n",
      ", x: 0.4902133345603943\n",
      "y: 0.5412006378173828\n",
      "z: -0.00011007403372786939\n",
      ", x: 0.5059379935264587\n",
      "y: 0.5802608728408813\n",
      "z: -0.028887078166007996\n",
      ", x: 0.5305852890014648\n",
      "y: 0.7851437330245972\n",
      "z: 0.01085490733385086\n",
      ", x: 0.4952704906463623\n",
      "y: 0.7855714559555054\n",
      "z: 0.03478570282459259\n",
      ", x: 0.4203701615333557\n",
      "y: 0.6466488242149353\n",
      "z: 0.07373441755771637\n",
      ", x: 0.5066406726837158\n",
      "y: 0.6945365071296692\n",
      "z: -0.001879787421785295\n",
      ", x: 0.5054521560668945\n",
      "y: 0.6978208422660828\n",
      "z: -0.003408759832382202\n",
      ", x: 0.5046486854553223\n",
      "y: 0.7031819224357605\n",
      "z: -0.00462004030123353\n",
      ", x: 0.5039553642272949\n",
      "y: 0.7107004523277283\n",
      "z: -0.002895312150940299\n",
      ", x: 0.5015689730644226\n",
      "y: 0.7249026894569397\n",
      "z: 0.0047884657979011536\n",
      ", x: 0.4905224144458771\n",
      "y: 0.6895648241043091\n",
      "z: 0.007996724918484688\n",
      ", x: 0.48756393790245056\n",
      "y: 0.6885524392127991\n",
      "z: 0.008042147383093834\n",
      ", x: 0.48467907309532166\n",
      "y: 0.6864749789237976\n",
      "z: 0.007760439533740282\n",
      ", x: 0.474791556596756\n",
      "y: 0.6787023544311523\n",
      "z: 0.008419236168265343\n",
      ", x: 0.4383096694946289\n",
      "y: 0.647693932056427\n",
      "z: 0.023498142138123512\n",
      ", x: 0.5057346820831299\n",
      "y: 0.563883364200592\n",
      "z: -0.02152153290808201\n",
      ", x: 0.5002759099006653\n",
      "y: 0.5359723567962646\n",
      "z: -0.006702049635350704\n",
      ", x: 0.49424096941947937\n",
      "y: 0.5378334522247314\n",
      "z: -0.0025826555211097\n",
      ", x: 0.49270790815353394\n",
      "y: 0.6876866817474365\n",
      "z: 0.009039347991347313\n",
      ", x: 0.43887823820114136\n",
      "y: 0.6824228763580322\n",
      "z: 0.04231838509440422\n",
      ", x: 0.5080565810203552\n",
      "y: 0.5366519093513489\n",
      "z: -0.02057555504143238\n",
      ", x: 0.4973251223564148\n",
      "y: 0.7410784959793091\n",
      "z: 0.010855764150619507\n",
      ", x: 0.5213979482650757\n",
      "y: 0.5864784121513367\n",
      "z: -0.047066740691661835\n",
      ", x: 0.5122127532958984\n",
      "y: 0.5730714797973633\n",
      "z: -0.03732597455382347\n",
      ", x: 0.5209475159645081\n",
      "y: 0.5696318745613098\n",
      "z: -0.04028170555830002\n",
      ", x: 0.49978241324424744\n",
      "y: 0.6034706234931946\n",
      "z: -0.025773264467716217\n",
      ", x: 0.5298963785171509\n",
      "y: 0.7694859504699707\n",
      "z: 0.003511015558615327\n",
      ", x: 0.5292038917541504\n",
      "y: 0.7494970560073853\n",
      "z: 0.0014204151229932904\n",
      ", x: 0.5129886269569397\n",
      "y: 0.7492315769195557\n",
      "z: 0.0040985154919326305\n",
      ", x: 0.4737502932548523\n",
      "y: 0.7116081714630127\n",
      "z: 0.021941879764199257\n",
      ", x: 0.481144517660141\n",
      "y: 0.6377755999565125\n",
      "z: -0.0021890047937631607\n",
      ", x: 0.48492833971977234\n",
      "y: 0.7285065650939941\n",
      "z: 0.017256220802664757\n",
      ", x: 0.4587247371673584\n",
      "y: 0.6359274983406067\n",
      "z: 0.0023931919131428003\n",
      ", x: 0.47234463691711426\n",
      "y: 0.6519301533699036\n",
      "z: 0.002196531044319272\n",
      ", x: 0.4510290026664734\n",
      "y: 0.6584270000457764\n",
      "z: 0.013797682709991932\n",
      ", x: 0.5104665160179138\n",
      "y: 0.7685468792915344\n",
      "z: 0.006832300219684839\n",
      ", x: 0.494169682264328\n",
      "y: 0.6101384162902832\n",
      "z: -0.017232254147529602\n",
      ", x: 0.46661609411239624\n",
      "y: 0.724934458732605\n",
      "z: 0.03193682059645653\n",
      ", x: 0.48016786575317383\n",
      "y: 0.7425035834312439\n",
      "z: 0.025718549266457558\n",
      ", x: 0.4640883505344391\n",
      "y: 0.693475067615509\n",
      "z: 0.021602831780910492\n",
      ", x: 0.4297524094581604\n",
      "y: 0.6649577021598816\n",
      "z: 0.04921744391322136\n",
      ", x: 0.4522833228111267\n",
      "y: 0.6974560022354126\n",
      "z: 0.03124847263097763\n",
      ", x: 0.42637285590171814\n",
      "y: 0.6763858795166016\n",
      "z: 0.07309775054454803\n",
      ", x: 0.4647468030452728\n",
      "y: 0.6685940027236938\n",
      "z: 0.009497759863734245\n",
      ", x: 0.5001507997512817\n",
      "y: 0.5889666676521301\n",
      "z: -0.02005910500884056\n",
      ", x: 0.5007895827293396\n",
      "y: 0.6361782550811768\n",
      "z: -0.03796564042568207\n",
      ", x: 0.4944089949131012\n",
      "y: 0.6367340683937073\n",
      "z: -0.02632364071905613\n",
      ", x: 0.5047513246536255\n",
      "y: 0.627513587474823\n",
      "z: -0.04611672833561897\n",
      ", x: 0.4928317368030548\n",
      "y: 0.5272364616394043\n",
      "z: -0.010574441403150558\n",
      ", x: 0.47753220796585083\n",
      "y: 0.522883415222168\n",
      "z: -0.013273444026708603\n",
      ", x: 0.4642745852470398\n",
      "y: 0.52286696434021\n",
      "z: -0.012647242285311222\n",
      ", x: 0.4531633257865906\n",
      "y: 0.5253483057022095\n",
      "z: -0.008052228018641472\n",
      ", x: 0.44552382826805115\n",
      "y: 0.5304579734802246\n",
      "z: -0.0012734219199046493\n",
      ", x: 0.440372496843338\n",
      "y: 0.5496576428413391\n",
      "z: 0.01662786677479744\n",
      ", x: 0.4141964614391327\n",
      "y: 0.5834062695503235\n",
      "z: 0.06563068926334381\n",
      ", x: 0.448691725730896\n",
      "y: 0.5667558908462524\n",
      "z: 0.011673315428197384\n",
      ", x: 0.45890823006629944\n",
      "y: 0.5702469944953918\n",
      "z: 0.005892524030059576\n",
      ", x: 0.4716838002204895\n",
      "y: 0.569542407989502\n",
      "z: 0.0016846117796376348\n",
      ", x: 0.4833982586860657\n",
      "y: 0.5658084750175476\n",
      "z: -0.0003962269693147391\n",
      ", x: 0.49204692244529724\n",
      "y: 0.5610030293464661\n",
      "z: -0.002072450239211321\n",
      ", x: 0.49771684408187866\n",
      "y: 0.5564568042755127\n",
      "z: -0.003244437975808978\n",
      ", x: 0.4149054288864136\n",
      "y: 0.5815615653991699\n",
      "z: 0.1018754094839096\n",
      ", x: 0.494728684425354\n",
      "y: 0.6388547420501709\n",
      "z: -0.02106282114982605\n",
      ", x: 0.5061518549919128\n",
      "y: 0.5950063467025757\n",
      "z: -0.034966520965099335\n",
      ", x: 0.5077418088912964\n",
      "y: 0.638676106929779\n",
      "z: -0.04577368497848511\n",
      ", x: 0.5133380889892578\n",
      "y: 0.6445648074150085\n",
      "z: -0.04117085412144661\n",
      ", x: 0.5077943205833435\n",
      "y: 0.640075147151947\n",
      "z: -0.04071970283985138\n",
      ", x: 0.49748721718788147\n",
      "y: 0.6421418190002441\n",
      "z: -0.017340948805212975\n",
      ", x: 0.5152301788330078\n",
      "y: 0.6464480757713318\n",
      "z: -0.04369725286960602\n",
      ", x: 0.516351044178009\n",
      "y: 0.6478675603866577\n",
      "z: -0.0315389521420002\n",
      ", x: 0.49635177850723267\n",
      "y: 0.5451553463935852\n",
      "z: 0.00010088598355650902\n",
      ", x: 0.5020132660865784\n",
      "y: 0.549066960811615\n",
      "z: -0.0058503844775259495\n",
      ", x: 0.5048025250434875\n",
      "y: 0.5525336265563965\n",
      "z: -0.013135122135281563\n",
      ", x: 0.4524584114551544\n",
      "y: 0.5440093278884888\n",
      "z: 0.0060263099148869514\n",
      ", x: 0.4475612938404083\n",
      "y: 0.5401608347892761\n",
      "z: 0.006234366912394762\n",
      ", x: 0.5298420190811157\n",
      "y: 0.5877692699432373\n",
      "z: -0.04375873878598213\n",
      ", x: 0.5892934203147888\n",
      "y: 0.5389742851257324\n",
      "z: 0.0032356888987123966\n",
      ", x: 0.5339441299438477\n",
      "y: 0.6441360116004944\n",
      "z: -0.03234969079494476\n",
      ", x: 0.6253027319908142\n",
      "y: 0.47654014825820923\n",
      "z: 0.039530809968709946\n",
      ", x: 0.5612468719482422\n",
      "y: 0.5512565970420837\n",
      "z: -0.004482480231672525\n",
      ", x: 0.570773720741272\n",
      "y: 0.5518601536750793\n",
      "z: -0.004044471308588982\n",
      ", x: 0.5803380012512207\n",
      "y: 0.5510525107383728\n",
      "z: -0.0019565774127840996\n",
      ", x: 0.5936700701713562\n",
      "y: 0.5435181856155396\n",
      "z: 0.004932779353111982\n",
      ", x: 0.5534483790397644\n",
      "y: 0.5485520958900452\n",
      "z: -0.003623584285378456\n",
      ", x: 0.5744236707687378\n",
      "y: 0.5230771899223328\n",
      "z: -0.011954573914408684\n",
      ", x: 0.5646027326583862\n",
      "y: 0.5234475135803223\n",
      "z: -0.011346625164151192\n",
      ", x: 0.5835403203964233\n",
      "y: 0.5245678424835205\n",
      "z: -0.009029987268149853\n",
      ", x: 0.5898510813713074\n",
      "y: 0.5278099775314331\n",
      "z: -0.004888527560979128\n",
      ", x: 0.6021773219108582\n",
      "y: 0.5513854026794434\n",
      "z: 0.01026197150349617\n",
      ", x: 0.5659896731376648\n",
      "y: 0.7542724013328552\n",
      "z: 0.014170986600220203\n",
      ", x: 0.5931726694107056\n",
      "y: 0.5363109707832336\n",
      "z: 0.005627396050840616\n",
      ", x: 0.6319184303283691\n",
      "y: 0.5396652817726135\n",
      "z: 0.05155174061655998\n",
      ", x: 0.6134702563285828\n",
      "y: 0.5419686436653137\n",
      "z: 0.018297292292118073\n",
      ", x: 0.573745608329773\n",
      "y: 0.6130669116973877\n",
      "z: -0.007129054516553879\n",
      ", x: 0.5393297076225281\n",
      "y: 0.6783830523490906\n",
      "z: -0.018763821572065353\n",
      ", x: 0.538791298866272\n",
      "y: 0.6906800866127014\n",
      "z: -0.012378877028822899\n",
      ", x: 0.5533942580223083\n",
      "y: 0.678673267364502\n",
      "z: -0.012751592323184013\n",
      ", x: 0.5625762939453125\n",
      "y: 0.6802738904953003\n",
      "z: -0.004472597036510706\n",
      ", x: 0.5490710735321045\n",
      "y: 0.6885550022125244\n",
      "z: -0.00846063531935215\n",
      ", x: 0.5569960474967957\n",
      "y: 0.686981201171875\n",
      "z: -0.0010527143022045493\n",
      ", x: 0.5742735862731934\n",
      "y: 0.6980689764022827\n",
      "z: 0.013028547167778015\n",
      ", x: 0.5318459272384644\n",
      "y: 0.6401920318603516\n",
      "z: -0.05092041566967964\n",
      ", x: 0.5321982502937317\n",
      "y: 0.6250797510147095\n",
      "z: -0.05534493178129196\n",
      ", x: 0.6052975058555603\n",
      "y: 0.5133600234985352\n",
      "z: -0.005962738301604986\n",
      ", x: 0.5515819787979126\n",
      "y: 0.5787827372550964\n",
      "z: -0.012402215041220188\n",
      ", x: 0.5559706091880798\n",
      "y: 0.6271350979804993\n",
      "z: -0.02737545594573021\n",
      ", x: 0.5560634136199951\n",
      "y: 0.6183028221130371\n",
      "z: -0.024987131357192993\n",
      ", x: 0.6030206680297852\n",
      "y: 0.6063861846923828\n",
      "z: 0.0038886242546141148\n",
      ", x: 0.5309248566627502\n",
      "y: 0.6051161289215088\n",
      "z: -0.05147925391793251\n",
      ", x: 0.5805010795593262\n",
      "y: 0.5030467510223389\n",
      "z: -0.023530760779976845\n",
      ", x: 0.5948616862297058\n",
      "y: 0.5060805082321167\n",
      "z: -0.016308529302477837\n",
      ", x: 0.6146136522293091\n",
      "y: 0.45326435565948486\n",
      "z: 0.017855457961559296\n",
      ", x: 0.5382862687110901\n",
      "y: 0.5161706209182739\n",
      "z: -0.029075324535369873\n",
      ", x: 0.5559999942779541\n",
      "y: 0.52653968334198\n",
      "z: -0.007522246800363064\n",
      ", x: 0.5821974873542786\n",
      "y: 0.6831188201904297\n",
      "z: 0.013934607617557049\n",
      ", x: 0.6275041103363037\n",
      "y: 0.6754793524742126\n",
      "z: 0.09455298632383347\n",
      ", x: 0.5494282245635986\n",
      "y: 0.6360090970993042\n",
      "z: -0.022567810490727425\n",
      ", x: 0.5412467122077942\n",
      "y: 0.641849935054779\n",
      "z: -0.022813880816102028\n",
      ", x: 0.572765588760376\n",
      "y: 0.6833017468452454\n",
      "z: 0.013833093456923962\n",
      ", x: 0.5682824850082397\n",
      "y: 0.6834723949432373\n",
      "z: 0.011448068544268608\n",
      ", x: 0.6003406643867493\n",
      "y: 0.4952847957611084\n",
      "z: -0.012614564038813114\n",
      ", x: 0.5570539832115173\n",
      "y: 0.6313828229904175\n",
      "z: -0.02120840921998024\n",
      ", x: 0.5616500973701477\n",
      "y: 0.5053420662879944\n",
      "z: -0.02778245136141777\n",
      ", x: 0.5632616877555847\n",
      "y: 0.4926489591598511\n",
      "z: -0.0312836654484272\n",
      ", x: 0.5731995701789856\n",
      "y: 0.4239356517791748\n",
      "z: -0.02119264379143715\n",
      ", x: 0.607052743434906\n",
      "y: 0.47325819730758667\n",
      "z: 0.0005213121185079217\n",
      ", x: 0.5670843720436096\n",
      "y: 0.45651519298553467\n",
      "z: -0.026677288115024567\n",
      ", x: 0.6113952994346619\n",
      "y: 0.5049499869346619\n",
      "z: 0.0013381741009652615\n",
      ", x: 0.6183900833129883\n",
      "y: 0.4911620616912842\n",
      "z: 0.019387261942029\n",
      ", x: 0.5392976403236389\n",
      "y: 0.6861745119094849\n",
      "z: -0.01653316058218479\n",
      ", x: 0.5508825182914734\n",
      "y: 0.6851426959037781\n",
      "z: -0.010822264477610588\n",
      ", x: 0.5596951246261597\n",
      "y: 0.6840147376060486\n",
      "z: -0.003425684990361333\n",
      ", x: 0.5472415089607239\n",
      "y: 0.6382757425308228\n",
      "z: -0.020430445671081543\n",
      ", x: 0.5705675482749939\n",
      "y: 0.6833676695823669\n",
      "z: 0.012609888799488544\n",
      ", x: 0.5654109716415405\n",
      "y: 0.6884007453918457\n",
      "z: 0.0069283354096114635\n",
      ", x: 0.5670532584190369\n",
      "y: 0.6834489107131958\n",
      "z: 0.011180231347680092\n",
      ", x: 0.5433940291404724\n",
      "y: 0.6359873414039612\n",
      "z: -0.03719404339790344\n",
      ", x: 0.5552734732627869\n",
      "y: 0.6855598092079163\n",
      "z: 0.0007066671969369054\n",
      ", x: 0.5473477244377136\n",
      "y: 0.6881810426712036\n",
      "z: -0.004228843376040459\n",
      ", x: 0.5378907322883606\n",
      "y: 0.6909976005554199\n",
      "z: -0.007986040785908699\n",
      ", x: 0.5421180725097656\n",
      "y: 0.7302972078323364\n",
      "z: -0.0003662949020508677\n",
      ", x: 0.5404802560806274\n",
      "y: 0.7142980098724365\n",
      "z: -0.009582002647221088\n",
      ", x: 0.5396614670753479\n",
      "y: 0.7059314250946045\n",
      "z: -0.01083624828606844\n",
      ", x: 0.5388574004173279\n",
      "y: 0.6991950869560242\n",
      "z: -0.00854448415338993\n",
      ", x: 0.5379999876022339\n",
      "y: 0.6947807669639587\n",
      "z: -0.0072477152571082115\n",
      ", x: 0.5558885931968689\n",
      "y: 0.6892615556716919\n",
      "z: 0.0014284548815339804\n",
      ", x: 0.5573142766952515\n",
      "y: 0.6907031536102295\n",
      "z: -1.8720978914643638e-05\n",
      ", x: 0.5592750310897827\n",
      "y: 0.6940649747848511\n",
      "z: -0.0008801807416602969\n",
      ", x: 0.5610608458518982\n",
      "y: 0.6987749338150024\n",
      "z: 0.0012440284481272101\n",
      ", x: 0.56996750831604\n",
      "y: 0.6646023988723755\n",
      "z: -0.003456711769104004\n",
      ", x: 0.6349219083786011\n",
      "y: 0.6015452742576599\n",
      "z: 0.09948252141475677\n",
      ", x: 0.5610146522521973\n",
      "y: 0.6870781183242798\n",
      "z: 0.007329103071242571\n",
      ", x: 0.5630965232849121\n",
      "y: 0.6871520280838013\n",
      "z: 0.006505761761218309\n",
      ", x: 0.5378612279891968\n",
      "y: 0.6488307118415833\n",
      "z: -0.022201811894774437\n",
      ", x: 0.5543631315231323\n",
      "y: 0.6392547488212585\n",
      "z: -0.01286983396857977\n",
      ", x: 0.5395203232765198\n",
      "y: 0.6455524563789368\n",
      "z: -0.022907854989171028\n",
      ", x: 0.5620994567871094\n",
      "y: 0.5852710604667664\n",
      "z: -0.008292751386761665\n",
      ", x: 0.5787487626075745\n",
      "y: 0.5928283929824829\n",
      "z: -0.005259101279079914\n",
      ", x: 0.5582901239395142\n",
      "y: 0.6230702996253967\n",
      "z: -0.018679898232221603\n",
      ", x: 0.5979181528091431\n",
      "y: 0.4350910782814026\n",
      "z: -0.0034739221446216106\n",
      ", x: 0.590505838394165\n",
      "y: 0.46107161045074463\n",
      "z: -0.014221503399312496\n",
      ", x: 0.5836225748062134\n",
      "y: 0.4902181625366211\n",
      "z: -0.022884918376803398\n",
      ", x: 0.5659846067428589\n",
      "y: 0.7104589939117432\n",
      "z: 0.008339941501617432\n",
      ", x: 0.5408642888069153\n",
      "y: 0.49688127636909485\n",
      "z: -0.03503701090812683\n",
      ", x: 0.5436873435974121\n",
      "y: 0.4565015435218811\n",
      "z: -0.03309956192970276\n",
      ", x: 0.5469066500663757\n",
      "y: 0.41954052448272705\n",
      "z: -0.030806679278612137\n",
      ", x: 0.5888175964355469\n",
      "y: 0.5483444929122925\n",
      "z: 0.0016820206074044108\n",
      ", x: 0.6133221387863159\n",
      "y: 0.5599092245101929\n",
      "z: 0.016601551324129105\n",
      ", x: 0.5488146543502808\n",
      "y: 0.545578122138977\n",
      "z: -0.0025471963454037905\n",
      ", x: 0.6015329957008362\n",
      "y: 0.529151201248169\n",
      "z: 0.0027565122582018375\n",
      ", x: 0.544270932674408\n",
      "y: 0.5708463788032532\n",
      "z: -0.01701420173048973\n",
      ", x: 0.5491071343421936\n",
      "y: 0.6255564093589783\n",
      "z: -0.03766276687383652\n",
      ", x: 0.6242777705192566\n",
      "y: 0.5684016942977905\n",
      "z: 0.02828371897339821\n",
      ", x: 0.606521487236023\n",
      "y: 0.5701349973678589\n",
      "z: 0.009564490057528019\n",
      ", x: 0.5941146016120911\n",
      "y: 0.576649010181427\n",
      "z: 0.0017318204045295715\n",
      ", x: 0.5753333568572998\n",
      "y: 0.57663494348526\n",
      "z: -0.0026968386955559254\n",
      ", x: 0.5612848401069641\n",
      "y: 0.5722745060920715\n",
      "z: -0.004877332132309675\n",
      ", x: 0.5511767268180847\n",
      "y: 0.5669493675231934\n",
      "z: -0.00809013843536377\n",
      ", x: 0.5301927924156189\n",
      "y: 0.5544463396072388\n",
      "z: -0.030072994530200958\n",
      ", x: 0.6245643496513367\n",
      "y: 0.5982193350791931\n",
      "z: 0.02934875153005123\n",
      ", x: 0.6101083755493164\n",
      "y: 0.525995671749115\n",
      "z: 0.006371764000505209\n",
      ", x: 0.5290567278862\n",
      "y: 0.6470731496810913\n",
      "z: -0.0454048290848732\n",
      ", x: 0.5518534779548645\n",
      "y: 0.5943999290466309\n",
      "z: -0.01460319384932518\n",
      ", x: 0.6347957849502563\n",
      "y: 0.5355657339096069\n",
      "z: 0.08332227915525436\n",
      ", x: 0.5435823798179626\n",
      "y: 0.5605456829071045\n",
      "z: -0.010374131612479687\n",
      ", x: 0.5594149231910706\n",
      "y: 0.6222811341285706\n",
      "z: -0.008275655098259449\n",
      ", x: 0.5964038372039795\n",
      "y: 0.5369592905044556\n",
      "z: 0.00724125886335969\n",
      ", x: 0.5490462779998779\n",
      "y: 0.6144466400146484\n",
      "z: -0.034787412732839584\n",
      ", x: 0.6329545378684998\n",
      "y: 0.6377169489860535\n",
      "z: 0.09944590926170349\n",
      ", x: 0.5495083332061768\n",
      "y: 0.5405284762382507\n",
      "z: -0.00069851812440902\n",
      ", x: 0.5400146842002869\n",
      "y: 0.6085315942764282\n",
      "z: -0.045174408704042435\n",
      ", x: 0.608140766620636\n",
      "y: 0.7141057848930359\n",
      "z: 0.047746118158102036\n",
      ", x: 0.607399582862854\n",
      "y: 0.730738639831543\n",
      "z: 0.06631819903850555\n",
      ", x: 0.6340675354003906\n",
      "y: 0.6009728312492371\n",
      "z: 0.06429371982812881\n",
      ", x: 0.6200942993164062\n",
      "y: 0.6928116679191589\n",
      "z: 0.05736827105283737\n",
      ", x: 0.6253558993339539\n",
      "y: 0.5125817060470581\n",
      "z: 0.03783639147877693\n",
      ", x: 0.5685892105102539\n",
      "y: 0.7699851393699646\n",
      "z: 0.021347083151340485\n",
      ", x: 0.5282498598098755\n",
      "y: 0.6485850214958191\n",
      "z: -0.03159205615520477\n",
      ", x: 0.5612633228302002\n",
      "y: 0.6029016375541687\n",
      "z: -0.009907235391438007\n",
      ", x: 0.6221508383750916\n",
      "y: 0.5431182980537415\n",
      "z: 0.02798094041645527\n",
      ", x: 0.5788427591323853\n",
      "y: 0.5424122214317322\n",
      "z: -0.0016296090325340629\n",
      ", x: 0.5702809691429138\n",
      "y: 0.5434941053390503\n",
      "z: -0.0036738754715770483\n",
      ", x: 0.567830502986908\n",
      "y: 0.6906298398971558\n",
      "z: 0.008732521906495094\n",
      ", x: 0.625033974647522\n",
      "y: 0.6279200911521912\n",
      "z: 0.03653411567211151\n",
      ", x: 0.5512641668319702\n",
      "y: 0.7914762496948242\n",
      "z: 0.02576381526887417\n",
      ", x: 0.5800544023513794\n",
      "y: 0.7685169577598572\n",
      "z: 0.04321359843015671\n",
      ", x: 0.5927199125289917\n",
      "y: 0.7528492212295532\n",
      "z: 0.053596075624227524\n",
      ", x: 0.562539279460907\n",
      "y: 0.5430355668067932\n",
      "z: -0.004080337472259998\n",
      ", x: 0.5552858114242554\n",
      "y: 0.5414090752601624\n",
      "z: -0.0027675293385982513\n",
      ", x: 0.5511807799339294\n",
      "y: 0.540846586227417\n",
      "z: -0.0009674773318693042\n",
      ", x: 0.6173125505447388\n",
      "y: 0.52095627784729\n",
      "z: 0.01542352419346571\n",
      ", x: 0.5575281977653503\n",
      "y: 0.5331012010574341\n",
      "z: -0.005389186553657055\n",
      ", x: 0.5656070113182068\n",
      "y: 0.5304527878761292\n",
      "z: -0.00791648868471384\n",
      ", x: 0.5736146569252014\n",
      "y: 0.5299038887023926\n",
      "z: -0.007752493489533663\n",
      ", x: 0.5818421840667725\n",
      "y: 0.5314524173736572\n",
      "z: -0.0054484461434185505\n",
      ", x: 0.5872805714607239\n",
      "y: 0.533873438835144\n",
      "z: -0.00213619158603251\n",
      ", x: 0.6315508484840393\n",
      "y: 0.502090573310852\n",
      "z: 0.06318061053752899\n",
      ", x: 0.5848569869995117\n",
      "y: 0.5407217144966125\n",
      "z: 0.0009377262322232127\n",
      ", x: 0.5600326657295227\n",
      "y: 0.6586556434631348\n",
      "z: -0.010499675758183002\n",
      ", x: 0.5494109392166138\n",
      "y: 0.6350050568580627\n",
      "z: -0.026910535991191864\n",
      ", x: 0.5394672155380249\n",
      "y: 0.6597349047660828\n",
      "z: -0.019935281947255135\n",
      ", x: 0.5946477651596069\n",
      "y: 0.7356451749801636\n",
      "z: 0.04039248451590538\n",
      ", x: 0.5819520354270935\n",
      "y: 0.7531264424324036\n",
      "z: 0.031562916934490204\n",
      ", x: 0.5513678789138794\n",
      "y: 0.7816500663757324\n",
      "z: 0.012464574538171291\n",
      ", x: 0.6185406446456909\n",
      "y: 0.7066601514816284\n",
      "z: 0.08159748464822769\n",
      ", x: 0.5520157217979431\n",
      "y: 0.537395715713501\n",
      "z: -0.002747845370322466\n",
      ", x: 0.5375930070877075\n",
      "y: 0.5783435106277466\n",
      "z: -0.03005850315093994\n",
      ", x: 0.566834568977356\n",
      "y: 0.7820097208023071\n",
      "z: 0.03250095620751381\n",
      ", x: 0.6325244307518005\n",
      "y: 0.6337752342224121\n",
      "z: 0.06709279119968414\n",
      ", x: 0.5477122068405151\n",
      "y: 0.6920429468154907\n",
      "z: -0.003499167738482356\n",
      ", x: 0.5491997003555298\n",
      "y: 0.6952020525932312\n",
      "z: -0.004995796829462051\n",
      ", x: 0.5505020022392273\n",
      "y: 0.7004584074020386\n",
      "z: -0.006215346977114677\n",
      ", x: 0.5518276691436768\n",
      "y: 0.7078480124473572\n",
      "z: -0.004584468435496092\n",
      ", x: 0.5555348992347717\n",
      "y: 0.7218742966651917\n",
      "z: 0.0029857996851205826\n",
      ", x: 0.5641443133354187\n",
      "y: 0.6848903894424438\n",
      "z: 0.005484951660037041\n",
      ", x: 0.5668714642524719\n",
      "y: 0.6835458278656006\n",
      "z: 0.0052703386172652245\n",
      ", x: 0.5695870518684387\n",
      "y: 0.6811278462409973\n",
      "z: 0.004802797455340624\n",
      ", x: 0.5785164833068848\n",
      "y: 0.6723052859306335\n",
      "z: 0.005053012166172266\n",
      ", x: 0.6131876707077026\n",
      "y: 0.6371909379959106\n",
      "z: 0.018040554597973824\n",
      ", x: 0.5369871258735657\n",
      "y: 0.5619481205940247\n",
      "z: -0.022915102541446686\n",
      ", x: 0.5409931540489197\n",
      "y: 0.5334758758544922\n",
      "z: -0.008392902091145515\n",
      ", x: 0.5475558042526245\n",
      "y: 0.5344757437705994\n",
      "z: -0.004876621533185244\n",
      ", x: 0.5618774890899658\n",
      "y: 0.6833113431930542\n",
      "z: 0.006566610652953386\n",
      ", x: 0.6158051490783691\n",
      "y: 0.6719939708709717\n",
      "z: 0.036935120820999146\n",
      ", x: 0.5324815511703491\n",
      "y: 0.535092294216156\n",
      "z: -0.02163437381386757\n",
      ", x: 0.5608937740325928\n",
      "y: 0.737634539604187\n",
      "z: 0.009004606865346432\n",
      ", x: 0.530174195766449\n",
      "y: 0.5719398260116577\n",
      "z: -0.03799482434988022\n",
      ", x: 0.5456418991088867\n",
      "y: 0.6006066203117371\n",
      "z: -0.027417991310358047\n",
      ", x: 0.5455722212791443\n",
      "y: 0.7474814057350159\n",
      "z: 0.003232480026781559\n",
      ", x: 0.5827339887619019\n",
      "y: 0.7053831219673157\n",
      "z: 0.01858368143439293\n",
      ", x: 0.5681581497192383\n",
      "y: 0.6323614120483398\n",
      "z: -0.004955653101205826\n",
      ", x: 0.5726808905601501\n",
      "y: 0.7235886454582214\n",
      "z: 0.01467101275920868\n",
      ", x: 0.5910186767578125\n",
      "y: 0.6279568076133728\n",
      "z: -0.0016978380735963583\n",
      ", x: 0.5784475207328796\n",
      "y: 0.6455258131027222\n",
      "z: -0.001118732732720673\n",
      ", x: 0.6008847951889038\n",
      "y: 0.649523913860321\n",
      "z: 0.009105847217142582\n",
      ", x: 0.5494571328163147\n",
      "y: 0.7665218710899353\n",
      "z: 0.005613463465124369\n",
      ", x: 0.5522459149360657\n",
      "y: 0.6065034866333008\n",
      "z: -0.01925705187022686\n",
      ", x: 0.5910449028015137\n",
      "y: 0.7179065942764282\n",
      "z: 0.02816706709563732\n",
      ", x: 0.578549325466156\n",
      "y: 0.7372778654098511\n",
      "z: 0.0228961780667305\n",
      ", x: 0.5908992290496826\n",
      "y: 0.68592369556427\n",
      "z: 0.017441798001527786\n",
      ", x: 0.6239314675331116\n",
      "y: 0.6533522605895996\n",
      "z: 0.04320133104920387\n",
      ", x: 0.6032464504241943\n",
      "y: 0.6886951327323914\n",
      "z: 0.026538191363215446\n",
      ", x: 0.6288540959358215\n",
      "y: 0.6644303202629089\n",
      "z: 0.06672167778015137\n",
      ", x: 0.5878157615661621\n",
      "y: 0.6612474322319031\n",
      "z: 0.005488529801368713\n",
      ", x: 0.5445369482040405\n",
      "y: 0.5862164497375488\n",
      "z: -0.021827178075909615\n",
      ", x: 0.5463465452194214\n",
      "y: 0.6332775950431824\n",
      "z: -0.03946583718061447\n",
      ", x: 0.5533549189567566\n",
      "y: 0.632936418056488\n",
      "z: -0.028034549206495285\n",
      ", x: 0.5411840081214905\n",
      "y: 0.6253142356872559\n",
      "z: -0.0473732091486454\n",
      ", x: 0.54787278175354\n",
      "y: 0.5238286256790161\n",
      "z: -0.012835072353482246\n",
      ", x: 0.5629498958587646\n",
      "y: 0.5174961090087891\n",
      "z: -0.01625082641839981\n",
      ", x: 0.576422929763794\n",
      "y: 0.5159744024276733\n",
      "z: -0.016574090346693993\n",
      ", x: 0.5880063772201538\n",
      "y: 0.517086386680603\n",
      "z: -0.01280098594725132\n",
      ", x: 0.5965155363082886\n",
      "y: 0.5211944580078125\n",
      "z: -0.006472161039710045\n",
      ", x: 0.6038493514060974\n",
      "y: 0.5395906567573547\n",
      "z: 0.010967420414090157\n",
      ", x: 0.6342498064041138\n",
      "y: 0.5699620246887207\n",
      "z: 0.0584675595164299\n",
      ", x: 0.596545398235321\n",
      "y: 0.557643711566925\n",
      "z: 0.00647122785449028\n",
      ", x: 0.5863445997238159\n",
      "y: 0.5623942017555237\n",
      "z: 0.0012763775885105133\n",
      ", x: 0.5732446312904358\n",
      "y: 0.5632894039154053\n",
      "z: -0.002173338085412979\n",
      ", x: 0.5609478950500488\n",
      "y: 0.5609496831893921\n",
      "z: -0.0035300778690725565\n",
      ", x: 0.551753580570221\n",
      "y: 0.5572459697723389\n",
      "z: -0.004506231285631657\n",
      ", x: 0.5454636216163635\n",
      "y: 0.5535362958908081\n",
      "z: -0.005221141967922449\n",
      ", x: 0.6349864602088928\n",
      "y: 0.5680498480796814\n",
      "z: 0.09453485161066055\n",
      ", x: 0.5534749627113342\n",
      "y: 0.6350693106651306\n",
      "z: -0.022741982713341713\n",
      ", x: 0.5379855632781982\n",
      "y: 0.5930017232894897\n",
      "z: -0.03619178757071495\n",
      ", x: 0.5391226410865784\n",
      "y: 0.6367738842964172\n",
      "z: -0.04678158089518547\n",
      ", x: 0.5342112183570862\n",
      "y: 0.6432205438613892\n",
      "z: -0.04180663451552391\n",
      ", x: 0.5394216179847717\n",
      "y: 0.6381337642669678\n",
      "z: -0.04173998907208443\n",
      ", x: 0.5511325001716614\n",
      "y: 0.6387426257133484\n",
      "z: -0.018800294026732445\n",
      ", x: 0.5323160290718079\n",
      "y: 0.645435094833374\n",
      "z: -0.04410790652036667\n",
      ", x: 0.531649112701416\n",
      "y: 0.6469070315361023\n",
      "z: -0.03193139657378197\n",
      ", x: 0.5459661483764648\n",
      "y: 0.5421102643013\n",
      "z: -0.001966917421668768\n",
      ", x: 0.5403817296028137\n",
      "y: 0.5467371344566345\n",
      "z: -0.007448750548064709\n",
      ", x: 0.5375167727470398\n",
      "y: 0.5504732131958008\n",
      "z: -0.014353228732943535\n",
      ", x: 0.5905981063842773\n",
      "y: 0.535531222820282\n",
      "z: 0.0011630295775830746\n",
      ", x: 0.5953488945960999\n",
      "y: 0.5310526490211487\n",
      "z: 0.0010240647243335843\n",
      "]\n"
     ]
    }
   ],
   "source": [
    "print(\"Length of Face landmarks:\", len(results.face_landmarks.landmark), \"\\n\")\n",
    "print(\"Results of Face Landmarks:\\n\\n\", results.face_landmarks.landmark)"
   ]
  },
  {
   "cell_type": "code",
   "execution_count": 27,
   "id": "b4863963",
   "metadata": {
    "scrolled": true
   },
   "outputs": [
    {
     "name": "stdout",
     "output_type": "stream",
     "text": [
      "Length of Right Hand landmarks: 21 \n",
      "\n",
      "Results of Right Hand Landmarks:\n",
      "\n",
      " [x: 0.12414760142564774\n",
      "y: 0.6531518697738647\n",
      "z: 4.644348905458173e-07\n",
      ", x: 0.19273778796195984\n",
      "y: 0.6696648597717285\n",
      "z: -0.020147597417235374\n",
      ", x: 0.2625942826271057\n",
      "y: 0.6471019387245178\n",
      "z: -0.02552444487810135\n",
      ", x: 0.31694847345352173\n",
      "y: 0.6255170106887817\n",
      "z: -0.03091582842171192\n",
      ", x: 0.3603905141353607\n",
      "y: 0.624834418296814\n",
      "z: -0.035637494176626205\n",
      ", x: 0.26922911405563354\n",
      "y: 0.504911482334137\n",
      "z: 0.004614424426108599\n",
      ", x: 0.31528547406196594\n",
      "y: 0.44453462958335876\n",
      "z: -0.005729347933083773\n",
      ", x: 0.3412741422653198\n",
      "y: 0.40685179829597473\n",
      "z: -0.01886722445487976\n",
      ", x: 0.3627797067165375\n",
      "y: 0.3757861852645874\n",
      "z: -0.02850322239100933\n",
      ", x: 0.2439296692609787\n",
      "y: 0.4693107008934021\n",
      "z: 0.002997872419655323\n",
      ", x: 0.2923547923564911\n",
      "y: 0.396414577960968\n",
      "z: -0.0043066274374723434\n",
      ", x: 0.3243725299835205\n",
      "y: 0.3516043424606323\n",
      "z: -0.015779340639710426\n",
      ", x: 0.35129594802856445\n",
      "y: 0.31707170605659485\n",
      "z: -0.024339258670806885\n",
      ", x: 0.21223792433738708\n",
      "y: 0.4473881125450134\n",
      "z: -0.0031707657035440207\n",
      ", x: 0.2556781470775604\n",
      "y: 0.37449678778648376\n",
      "z: -0.011938055045902729\n",
      ", x: 0.28630274534225464\n",
      "y: 0.334561288356781\n",
      "z: -0.020870547741651535\n",
      ", x: 0.3136860728263855\n",
      "y: 0.30460548400878906\n",
      "z: -0.027170611545443535\n",
      ", x: 0.17312726378440857\n",
      "y: 0.4356275498867035\n",
      "z: -0.01228791568428278\n",
      ", x: 0.2018146514892578\n",
      "y: 0.3756939172744751\n",
      "z: -0.019929036498069763\n",
      ", x: 0.22460174560546875\n",
      "y: 0.34260284900665283\n",
      "z: -0.022307736799120903\n",
      ", x: 0.24890626966953278\n",
      "y: 0.31588494777679443\n",
      "z: -0.023736068978905678\n",
      "]\n"
     ]
    }
   ],
   "source": [
    "print(\"Length of Right Hand landmarks:\", len(results.right_hand_landmarks.landmark), \"\\n\")\n",
    "print(\"Results of Right Hand Landmarks:\\n\\n\", results.right_hand_landmarks.landmark)"
   ]
  },
  {
   "cell_type": "code",
   "execution_count": 28,
   "id": "69f9e7ed",
   "metadata": {
    "scrolled": false
   },
   "outputs": [
    {
     "ename": "AttributeError",
     "evalue": "'NoneType' object has no attribute 'landmark'",
     "output_type": "error",
     "traceback": [
      "\u001b[1;31m---------------------------------------------------------------------------\u001b[0m",
      "\u001b[1;31mAttributeError\u001b[0m                            Traceback (most recent call last)",
      "Input \u001b[1;32mIn [28]\u001b[0m, in \u001b[0;36m<cell line: 2>\u001b[1;34m()\u001b[0m\n\u001b[0;32m      1\u001b[0m \u001b[38;5;66;03m# there is no left hand on the image, so there is no results.\u001b[39;00m\n\u001b[1;32m----> 2\u001b[0m \u001b[43mresults\u001b[49m\u001b[38;5;241;43m.\u001b[39;49m\u001b[43mleft_hand_landmarks\u001b[49m\u001b[38;5;241;43m.\u001b[39;49m\u001b[43mlandmark\u001b[49m\n",
      "\u001b[1;31mAttributeError\u001b[0m: 'NoneType' object has no attribute 'landmark'"
     ]
    }
   ],
   "source": [
    "# there is no left hand on the image, so there is no results.\n",
    "results.left_hand_landmarks.landmark"
   ]
  },
  {
   "cell_type": "markdown",
   "id": "d5862c31",
   "metadata": {},
   "source": [
    "<a id=\"102\"></a>\n",
    "## C. os.makedirs file already exists error"
   ]
  },
  {
   "cell_type": "code",
   "execution_count": 28,
   "id": "6b608465",
   "metadata": {},
   "outputs": [
    {
     "data": {
      "text/plain": [
       "['gunaydin', 'merhaba', 'seniseviyorum']"
      ]
     },
     "execution_count": 28,
     "metadata": {},
     "output_type": "execute_result"
    }
   ],
   "source": [
    "os.listdir(\"./workspace/data\")"
   ]
  },
  {
   "cell_type": "code",
   "execution_count": 40,
   "id": "f94850b7",
   "metadata": {},
   "outputs": [],
   "source": [
    "# creating new data folders\n",
    "\n",
    "# Path for exported data, numpy arrays\n",
    "DATA_PATH = os.path.join('workspace/data') \n",
    "\n",
    "# Actions that we try to detect\n",
    "actions = np.array(['merhaba', 'gunaydin', 'seniseviyorum'])\n",
    "\n",
    "# Thirty videos worth of data. no_sequences : number of sequences\n",
    "no_sequences = 30\n",
    "\n",
    "# Videos are going to be 30 frames in length\n",
    "sequence_length = 30"
   ]
  },
  {
   "cell_type": "code",
   "execution_count": 41,
   "id": "f9b693fb",
   "metadata": {},
   "outputs": [
    {
     "ename": "FileExistsError",
     "evalue": "[WinError 183] Cannot create a file when that file already exists: 'workspace/data\\\\merhaba\\\\0'",
     "output_type": "error",
     "traceback": [
      "\u001b[1;31m---------------------------------------------------------------------------\u001b[0m",
      "\u001b[1;31mFileExistsError\u001b[0m                           Traceback (most recent call last)",
      "Input \u001b[1;32mIn [41]\u001b[0m, in \u001b[0;36m<cell line: 2>\u001b[1;34m()\u001b[0m\n\u001b[0;32m      2\u001b[0m \u001b[38;5;28;01mfor\u001b[39;00m action \u001b[38;5;129;01min\u001b[39;00m actions: \n\u001b[0;32m      3\u001b[0m     \u001b[38;5;28;01mfor\u001b[39;00m sequence \u001b[38;5;129;01min\u001b[39;00m \u001b[38;5;28mrange\u001b[39m(no_sequences): \n\u001b[0;32m      4\u001b[0m         \u001b[38;5;66;03m# If folder exist, raises error\u001b[39;00m\n\u001b[1;32m----> 5\u001b[0m         \u001b[43mos\u001b[49m\u001b[38;5;241;43m.\u001b[39;49m\u001b[43mmakedirs\u001b[49m\u001b[43m(\u001b[49m\u001b[43mos\u001b[49m\u001b[38;5;241;43m.\u001b[39;49m\u001b[43mpath\u001b[49m\u001b[38;5;241;43m.\u001b[39;49m\u001b[43mjoin\u001b[49m\u001b[43m(\u001b[49m\u001b[43mDATA_PATH\u001b[49m\u001b[43m,\u001b[49m\u001b[43m \u001b[49m\u001b[43maction\u001b[49m\u001b[43m,\u001b[49m\u001b[43m \u001b[49m\u001b[38;5;28;43mstr\u001b[39;49m\u001b[43m(\u001b[49m\u001b[43msequence\u001b[49m\u001b[43m)\u001b[49m\u001b[43m)\u001b[49m\u001b[43m)\u001b[49m\n",
      "File \u001b[1;32m~\\.conda\\envs\\ai_pt\\lib\\os.py:225\u001b[0m, in \u001b[0;36mmakedirs\u001b[1;34m(name, mode, exist_ok)\u001b[0m\n\u001b[0;32m    223\u001b[0m         \u001b[38;5;28;01mreturn\u001b[39;00m\n\u001b[0;32m    224\u001b[0m \u001b[38;5;28;01mtry\u001b[39;00m:\n\u001b[1;32m--> 225\u001b[0m     \u001b[43mmkdir\u001b[49m\u001b[43m(\u001b[49m\u001b[43mname\u001b[49m\u001b[43m,\u001b[49m\u001b[43m \u001b[49m\u001b[43mmode\u001b[49m\u001b[43m)\u001b[49m\n\u001b[0;32m    226\u001b[0m \u001b[38;5;28;01mexcept\u001b[39;00m \u001b[38;5;167;01mOSError\u001b[39;00m:\n\u001b[0;32m    227\u001b[0m     \u001b[38;5;66;03m# Cannot rely on checking for EEXIST, since the operating system\u001b[39;00m\n\u001b[0;32m    228\u001b[0m     \u001b[38;5;66;03m# could give priority to other errors like EACCES or EROFS\u001b[39;00m\n\u001b[0;32m    229\u001b[0m     \u001b[38;5;28;01mif\u001b[39;00m \u001b[38;5;129;01mnot\u001b[39;00m exist_ok \u001b[38;5;129;01mor\u001b[39;00m \u001b[38;5;129;01mnot\u001b[39;00m path\u001b[38;5;241m.\u001b[39misdir(name):\n",
      "\u001b[1;31mFileExistsError\u001b[0m: [WinError 183] Cannot create a file when that file already exists: 'workspace/data\\\\merhaba\\\\0'"
     ]
    }
   ],
   "source": [
    "# create data class folders\n",
    "for action in actions: \n",
    "    for sequence in range(no_sequences): \n",
    "        # If folder exist, raises error\n",
    "        os.makedirs(os.path.join(DATA_PATH, action, str(sequence)))"
   ]
  },
  {
   "cell_type": "code",
   "execution_count": null,
   "id": "ea930c0d",
   "metadata": {},
   "outputs": [],
   "source": []
  },
  {
   "cell_type": "code",
   "execution_count": null,
   "id": "f12ca354",
   "metadata": {},
   "outputs": [],
   "source": []
  },
  {
   "cell_type": "code",
   "execution_count": null,
   "id": "6c448dc3",
   "metadata": {},
   "outputs": [],
   "source": []
  },
  {
   "cell_type": "code",
   "execution_count": null,
   "id": "2b94149d",
   "metadata": {},
   "outputs": [],
   "source": []
  },
  {
   "cell_type": "code",
   "execution_count": null,
   "id": "527670bc",
   "metadata": {},
   "outputs": [],
   "source": []
  },
  {
   "cell_type": "code",
   "execution_count": null,
   "id": "f7952d50",
   "metadata": {},
   "outputs": [],
   "source": []
  },
  {
   "cell_type": "code",
   "execution_count": null,
   "id": "b516e0f4",
   "metadata": {},
   "outputs": [],
   "source": []
  },
  {
   "cell_type": "code",
   "execution_count": null,
   "id": "93dd25ad",
   "metadata": {},
   "outputs": [],
   "source": []
  },
  {
   "cell_type": "code",
   "execution_count": null,
   "id": "370dd794",
   "metadata": {},
   "outputs": [],
   "source": []
  },
  {
   "cell_type": "code",
   "execution_count": null,
   "id": "24908687",
   "metadata": {},
   "outputs": [],
   "source": []
  },
  {
   "cell_type": "code",
   "execution_count": null,
   "id": "73b58efc",
   "metadata": {},
   "outputs": [],
   "source": []
  },
  {
   "cell_type": "code",
   "execution_count": null,
   "id": "2ee98d39",
   "metadata": {},
   "outputs": [],
   "source": []
  },
  {
   "cell_type": "code",
   "execution_count": null,
   "id": "982040f5",
   "metadata": {},
   "outputs": [],
   "source": []
  }
 ],
 "metadata": {
  "kernelspec": {
   "display_name": "ai_pt",
   "language": "python",
   "name": "ai_pt"
  },
  "language_info": {
   "codemirror_mode": {
    "name": "ipython",
    "version": 3
   },
   "file_extension": ".py",
   "mimetype": "text/x-python",
   "name": "python",
   "nbconvert_exporter": "python",
   "pygments_lexer": "ipython3",
   "version": "3.9.12"
  }
 },
 "nbformat": 4,
 "nbformat_minor": 5
}
